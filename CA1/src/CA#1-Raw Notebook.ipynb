{
 "cells": [
  {
   "cell_type": "markdown",
   "metadata": {},
   "source": [
    "# <center>CryptoCurrencies CA#1<center>\n",
    "<h1><center>Introduction to Cryptography<center></h1>\n",
    "\n",
    "#### <center>\"Mobina - Mehrazar\"<center>"
   ]
  },
  {
   "cell_type": "markdown",
   "metadata": {},
   "source": [
    "## StoryLine:\n",
    "We have TinTin and Haddock on two seperate islands and they want to send messages to each other using morse codes!!    \n",
    "\n",
    "However, there is a problem over there. Roberto Rastapopoulos (Their enemy!) is listening to their conversation to figure out what they are saying to each other!    \n",
    "\n",
    "Now TinTin wants to use some encryption and decryption to ensure that Roberto couldn't understand what they are saying. Help TinTin to acheive his goal!"
   ]
  },
  {
   "cell_type": "markdown",
   "metadata": {},
   "source": [
    "## Environment Setup"
   ]
  },
  {
   "cell_type": "code",
   "execution_count": 139,
   "metadata": {},
   "outputs": [],
   "source": [
    "from Crypto.Cipher import AES\n",
    "from Crypto.Util.Padding import pad, unpad\n",
    "from Crypto.Random import get_random_bytes"
   ]
  },
  {
   "cell_type": "code",
   "execution_count": 140,
   "metadata": {},
   "outputs": [],
   "source": [
    "key = get_random_bytes(16)  # Generate a random 128-bit key"
   ]
  },
  {
   "cell_type": "markdown",
   "metadata": {},
   "source": [
    "## Part 1: Symmetric Cryptography\n",
    "\n"
   ]
  },
  {
   "cell_type": "markdown",
   "metadata": {},
   "source": [
    "**Important Note**: In all steps, use **AES-128** encryption method for encryption/decryption. You can use python cryptography libraries for this purpose."
   ]
  },
  {
   "cell_type": "markdown",
   "metadata": {},
   "source": [
    "TinTin decided to design a symmetirc encryption scheme for his connection with haddock. He asked you to design it for him using these steps:"
   ]
  },
  {
   "cell_type": "code",
   "execution_count": 141,
   "metadata": {},
   "outputs": [],
   "source": [
    "def symmetric_encryptor(input_message:str , key:str):\n",
    "    cipher = AES.new(key, AES.MODE_ECB)\n",
    "    padded_message = pad(input_message, AES.block_size)\n",
    "    ciphertext = cipher.encrypt(padded_message)\n",
    "    return ciphertext\n",
    "\n",
    "def encrypt(input_message:str, key:str):\n",
    "    cipher = AES.new(key, AES.MODE_ECB)\n",
    "    ciphertext = cipher.encrypt(pad(input_message, AES.block_size))\n",
    "    return ciphertext"
   ]
  },
  {
   "cell_type": "code",
   "execution_count": 142,
   "metadata": {},
   "outputs": [],
   "source": [
    "def symmetric_decryptor(input_ciphertext:str , key:str):\n",
    "    cipher = AES.new(key, AES.MODE_ECB)\n",
    "    decrypted_message = cipher.decrypt(input_ciphertext)\n",
    "    plain_text = unpad(decrypted_message, AES.block_size)\n",
    "    return plain_text\n",
    "\n",
    "def decrypt(input_ciphertext:str, key:str):\n",
    "    cipher = AES.new(key, AES.MODE_ECB)\n",
    "    decrypted_data = unpad(cipher.decrypt(input_ciphertext), AES.block_size)\n",
    "    return decrypted_data"
   ]
  },
  {
   "cell_type": "code",
   "execution_count": 159,
   "metadata": {},
   "outputs": [],
   "source": [
    "def symmetric_verifier(plaintext:str, ciphertext:str, key:str):\n",
    "    decrypted_message = symmetric_decryptor(ciphertext, key)\n",
    "    return plaintext.decode(\"utf-8\") == decrypted_message.decode(\"utf-8\")"
   ]
  },
  {
   "cell_type": "code",
   "execution_count": 161,
   "metadata": {},
   "outputs": [],
   "source": [
    "PATH_TO_CONFIDENTIAL_MESSAGE = \"../Confidential-Message.txt\"\n",
    "\n",
    "def read_file(file_name):\n",
    "    with open(file_name, 'r') as file:\n",
    "        data = file.read()\n",
    "    return bytes(data, 'utf-8')\n",
    "\n",
    "input_message = read_file(PATH_TO_CONFIDENTIAL_MESSAGE)"
   ]
  },
  {
   "cell_type": "markdown",
   "metadata": {},
   "source": [
    "Now test your functions by encrypting & decrypting the ((confidential-message.txt)) file."
   ]
  },
  {
   "cell_type": "code",
   "execution_count": 162,
   "metadata": {},
   "outputs": [],
   "source": [
    "# Test encryption code:\n",
    "ciphertext = symmetric_encryptor(input_message, key)"
   ]
  },
  {
   "cell_type": "code",
   "execution_count": 163,
   "metadata": {},
   "outputs": [],
   "source": [
    "# Test decryption code:\n",
    "plain_text = symmetric_decryptor(ciphertext, key)"
   ]
  },
  {
   "cell_type": "code",
   "execution_count": 164,
   "metadata": {},
   "outputs": [
    {
     "name": "stdout",
     "output_type": "stream",
     "text": [
      "The encryption and decryption process is correct.\n"
     ]
    }
   ],
   "source": [
    "# Test verification code:\n",
    "verify_result = symmetric_verifier(input_message, ciphertext, key)\n",
    "if (verify_result):\n",
    "    print(\"The encryption and decryption process is correct.\")\n",
    "else:\n",
    "    print(\"The encryption and decryption process is incorrect.\")"
   ]
  },
  {
   "cell_type": "markdown",
   "metadata": {},
   "source": [
    "## Part 2: Asymmetric Cryptography"
   ]
  },
  {
   "cell_type": "markdown",
   "metadata": {},
   "source": [
    "After TinTin found how to use symmetric encryption using a key, he faced another problem! How to share a key with haddock without letting Roberto finds it?        "
   ]
  },
  {
   "cell_type": "markdown",
   "metadata": {},
   "source": [
    "Therefore, he decides to use an asymmetric crypto system.    \n",
    "help him to acheive his goal by writing a program which:"
   ]
  },
  {
   "cell_type": "code",
   "execution_count": null,
   "metadata": {},
   "outputs": [],
   "source": [
    "def RSA_key_generator():\n",
    "    # write a code to generate a pair of private/public key using RSA\n",
    "    # CODE HERE:\n",
    "    \n",
    "    \n",
    "    "
   ]
  },
  {
   "cell_type": "code",
   "execution_count": null,
   "metadata": {},
   "outputs": [],
   "source": [
    "def asymmteric_encryptor(private_key:str, input_message:str):\n",
    "    # write a code to encrypt an input message using your private key\n",
    "    # CODE HERE:"
   ]
  },
  {
   "cell_type": "code",
   "execution_count": null,
   "metadata": {},
   "outputs": [],
   "source": [
    "def asymmteric_decryptor(public_key:str, ciphertext:str):\n",
    "    # write a code to decrypt a ciphertext using your private key\n",
    "    # CODE HERE:\n",
    "    "
   ]
  },
  {
   "cell_type": "code",
   "execution_count": null,
   "metadata": {},
   "outputs": [],
   "source": [
    "def symmetric_verifier(plaintext:str, ciphertext:str, public_key:str):\n",
    "    # Verify the correctness of the decryption process by\n",
    "    # comparing the original message with the decrypted message.\n",
    "    # output should be boolean(ture or false)\n",
    "    # CODE HERE:\n",
    "    "
   ]
  },
  {
   "cell_type": "markdown",
   "metadata": {},
   "source": [
    "Now test your functions by encrypting & decrypting the ((confidential-message.txt)) file again using new asummetric functions."
   ]
  },
  {
   "cell_type": "code",
   "execution_count": null,
   "metadata": {},
   "outputs": [],
   "source": [
    "# Test encryption code:\n",
    "# CODE HERE:\n"
   ]
  },
  {
   "cell_type": "code",
   "execution_count": null,
   "metadata": {},
   "outputs": [],
   "source": [
    "# Test decryption code:\n",
    "# CODE HERE:\n"
   ]
  },
  {
   "cell_type": "code",
   "execution_count": null,
   "metadata": {},
   "outputs": [],
   "source": [
    "# Test verification code:\n",
    "# CODE HERE:\n"
   ]
  },
  {
   "cell_type": "markdown",
   "metadata": {},
   "source": [
    "## Part 3: Digital signature"
   ]
  },
  {
   "cell_type": "markdown",
   "metadata": {},
   "source": [
    "Write a function to sign a given message in the text file (Confidentail message) using private key which was made in the part 2.   \n",
    "You have to sign the hash of the message, not the whole message (why?). (Use SHA-256 for hashing)"
   ]
  },
  {
   "cell_type": "code",
   "execution_count": null,
   "metadata": {},
   "outputs": [],
   "source": [
    "def sign_message(private_key:str, input_message: str):\n",
    "    # Write a code to sign a message using your private key.\n",
    "    # CODE HERE:\n",
    "    \n",
    "    \n",
    "    \n",
    "    return message_signature"
   ]
  },
  {
   "cell_type": "code",
   "execution_count": null,
   "metadata": {},
   "outputs": [],
   "source": [
    "def message_verification(input_message:str, signature:str, public_key:str):\n",
    "    # Write a code to verify the signature of the input message\n",
    "    # output should be boolean(ture or false)\n"
   ]
  }
 ],
 "metadata": {
  "kernelspec": {
   "display_name": "Python 3",
   "language": "python",
   "name": "python3"
  },
  "language_info": {
   "codemirror_mode": {
    "name": "ipython",
    "version": 3
   },
   "file_extension": ".py",
   "mimetype": "text/x-python",
   "name": "python",
   "nbconvert_exporter": "python",
   "pygments_lexer": "ipython3",
   "version": "3.11.0"
  },
  "orig_nbformat": 4
 },
 "nbformat": 4,
 "nbformat_minor": 2
}
