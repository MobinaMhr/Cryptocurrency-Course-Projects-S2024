{
  "cells": [
    {
      "cell_type": "markdown",
      "metadata": {
        "id": "yk9_K-P4BL5O"
      },
      "source": [
        "# <center>CryptoCurrencies CA#2<center>\n",
        "<h1><center>Transacting on Bitcoin TestNet / Firing up an Ethereum Node<center></h1>\n",
        "\n",
        "#### <center>Mobina - Mehrazar<center>\n",
        "#### <center>810100216<center>"
      ]
    },
    {
      "cell_type": "code",
      "execution_count": 1,
      "metadata": {
        "colab": {
          "base_uri": "https://localhost:8080/",
          "height": 366
        },
        "id": "ZtDCIrurBL5R",
        "outputId": "cbd617e8-d5db-47a1-a3b0-b196238ece6c"
      },
      "outputs": [],
      "source": [
        "import secrets\n",
        "import hashlib\n",
        "import base58\n",
        "import ecdsa"
      ]
    },
    {
      "cell_type": "markdown",
      "metadata": {
        "id": "qBWWexEbBL5T"
      },
      "source": [
        "### 1. Address Generation:"
      ]
    },
    {
      "cell_type": "markdown",
      "metadata": {
        "id": "M2JbpEpJBL5U"
      },
      "source": [
        "#### 1.1: Base58 and WIF address"
      ]
    },
    {
      "cell_type": "code",
      "execution_count": 2,
      "metadata": {
        "id": "0kpvNgzeBL5V"
      },
      "outputs": [],
      "source": [
        "def generate_private_key():\n",
        "    return secrets.token_bytes(32)\n",
        "\n",
        "def private_key_to_public_key(private_key):\n",
        "    vk = ecdsa.SigningKey.from_string(\n",
        "            private_key,\n",
        "            curve=ecdsa.SECP256k1\n",
        "         ).verifying_key\n",
        "    return b'\\x04' + vk.to_string()\n",
        "\n",
        "def private_key_to_wif(private_key):\n",
        "    extended_key = b'\\xef' + private_key\n",
        "    extended_key += get_checksum(extended_key)\n",
        "    wif_key = base58.b58encode(extended_key).decode('utf-8')\n",
        "    return wif_key\n",
        "\n",
        "def get_checksum(payload):\n",
        "    first_hash = hashlib.sha256(payload).digest()\n",
        "    second_hash = hashlib.sha256(first_hash).digest()\n",
        "    return second_hash[:4]\n",
        "\n",
        "def public_key_to_address(public_key):\n",
        "    sha256_hash = hashlib.sha256(public_key).digest()\n",
        "    ripemd160 = hashlib.new('ripemd160')\n",
        "    ripemd160.update(sha256_hash)\n",
        "    hashed_public_key = ripemd160.digest()\n",
        "\n",
        "    extended_key = b'\\x6f' + hashed_public_key\n",
        "    extended_key += get_checksum(extended_key)\n",
        "    address = base58.b58encode(extended_key).decode('utf-8')\n",
        "    return address\n",
        "\n",
        "def generate_vanity_address(prefix):\n",
        "    prefix_len=len(prefix)\n",
        "    while True:\n",
        "        private_key = generate_private_key()\n",
        "        public_key = private_key_to_public_key(private_key)\n",
        "        address = public_key_to_address(public_key)\n",
        "        # print(address)\n",
        "        if address[1:prefix_len+1] == prefix:\n",
        "            wif_key = private_key_to_wif(private_key)\n",
        "            return private_key, wif_key, public_key, address\n"
      ]
    },
    {
      "cell_type": "markdown",
      "metadata": {},
      "source": [
        "#### Question: Mainnet vs Testnet"
      ]
    },
    {
      "cell_type": "markdown",
      "metadata": {},
      "source": [
        "The **mainnet**, also known as the main network, is the original and fully functional blockchain where actual transactions occur.\n",
        "<br>\n",
        "- Real economic value is associated with native coins (cryptocurrencies) and non-fungible tokens (NFTs).\n",
        "- Transactions are executed within the network and stored on the blockchain for public use.\n",
        "- Developers deploy mainnets with complete faith in their blockchain’s capabilities.\n",
        "<br>\n",
        "Examples of mainnet-based blockchain systems include Ethereum and Bitcoin.\n",
        "<br>\n",
        "<br>\n",
        "\n",
        "The **testnet**, on the other hand, provides an alternative environment that mimics the mainnet’s functionality.\n",
        "<br>\n",
        "- Developers can build and test projects without facilitating live transactions or using real cryptocurrencies.\n",
        "- It serves as a sandbox for experimentation, trial, and improvement.\n",
        "- Testnet transactions do not have real economic value.\n",
        "<br>\n",
        "Ethereum and other blockchain systems also have testnets for development purposes.\n",
        "\n",
        "\n",
        "**Address Differences**:\n",
        "<br>\n",
        "The practical difference between mainnet and testnet addresses lies in the first byte (and the checksum).\n",
        "<br>\n",
        "While the base58 encoding method remains the same, the first byte in the address differs between mainnet and testnet.\n",
        "<br>\n",
        "Due to this difference, the entire address appears distinct for mainnet and testnet.\n",
        "\n",
        "- Mainnet addresses start with the number \"1\" for Pay to Public Key Hash (P2PKH) addresses and with the number \"3\" for Pay to Script Hash (P2SH) addresses.\n",
        "\n",
        "- Testnet addresses start with the letter \"m\" or \"n\" for P2PKH addresses and with the letters \"2\" or \"3\" for P2SH addresses."
      ]
    },
    {
      "cell_type": "markdown",
      "metadata": {
        "id": "XDMHE1XZBL5W"
      },
      "source": [
        "#### 1.2: Vanity Address Generator\n"
      ]
    },
    {
      "cell_type": "code",
      "execution_count": null,
      "metadata": {
        "id": "mloBTqeMBL5X",
        "outputId": "f4fac12e-cb93-4dc6-f8e7-87cf20a7c490"
      },
      "outputs": [
        {
          "name": "stdout",
          "output_type": "stream",
          "text": [
            "Private Key (hex): 61678501b340a00c6d8d9356ca6abe3c9d037d207920e2ac309e7f67e9cccde2\n",
            "Private Key (WIF): 92KpE8WpCaVY2gpv3wdNSBPNadB2fZXZz8ERMoj4TWuTiKp9AYe\n",
            "Public Key (hex): 04c247f39dc0f2b9d270ecbc83dc5f031aac0d7278fa7dbc0ace7c3bc20824d45785c3c793f9141ff62fd42c9027fdc6488cece8ba5c2deeadbafbf284fb8bee3b\n",
            "Bitcoin Testnet Address: n4cdFzyVNQXv9dwoZ8G9EsV18PS2y5C6TG\n"
          ]
        }
      ],
      "source": [
        "desired_prefix = \"4cd\"\n",
        "private_key, wif_key, public_key, address = generate_vanity_address(desired_prefix)\n",
        "\n",
        "print(\"Private Key (hex):\", private_key.hex())\n",
        "print(\"Private Key (WIF):\", wif_key)\n",
        "print(\"Public Key (hex):\", public_key.hex())\n",
        "print(\"Bitcoin Testnet Address:\", address)\n",
        "\n",
        "with open(\"./logs.txt\", \"w\") as f:\n",
        "    f.write(\"Private Key (hex): \" + private_key.hex() + \"\\n\")\n",
        "    f.write(\"Private Key (WIF): \" + wif_key + \"\\n\")\n",
        "    f.write(\"Public Key (hex): \" + public_key.hex() + \"\\n\")\n",
        "    f.write(\"Bitcoin Testnet Address: \" + address + \"\\n\")"
      ]
    },
    {
      "cell_type": "markdown",
      "metadata": {
        "id": "WJa4sBF4BL5Z"
      },
      "source": [
        "### 2. Transacting on Bitcoin TestNet:"
      ]
    },
    {
      "cell_type": "markdown",
      "metadata": {
        "id": "MINyLIl-BL5Z"
      },
      "source": [
        "Here are some utility functions that you will need to use in order to make transactions. Fill the #TODO parts in the functions in order to be used in the next steps:"
      ]
    },
    {
      "cell_type": "markdown",
      "metadata": {
        "id": "uUeJU7P4BL5a"
      },
      "source": [
        "#### Utility Functions:"
      ]
    },
    {
      "cell_type": "code",
      "execution_count": 3,
      "metadata": {
        "colab": {
          "base_uri": "https://localhost:8080/",
          "height": 539
        },
        "id": "hs2oGyKEBL5a",
        "outputId": "714a8c53-795f-47be-b649-922528de2b6e"
      },
      "outputs": [],
      "source": [
        "import bitcoin\n",
        "import bitcoin.wallet"
      ]
    },
    {
      "cell_type": "code",
      "execution_count": 4,
      "metadata": {
        "id": "Krz6Nhe0BL5b"
      },
      "outputs": [],
      "source": [
        "from bitcoin.core import COIN, b2lx, serialize, x, lx, b2x"
      ]
    },
    {
      "cell_type": "code",
      "execution_count": 5,
      "metadata": {
        "id": "tauNVD5mBL5b"
      },
      "outputs": [],
      "source": [
        "import bitcoin.core\n",
        "from bitcoin.wallet import CBitcoinSecret, P2PKHBitcoinAddress\n",
        "from bitcoin.core import b2lx\n",
        "from bitcoin.core import COIN, lx, b2x\n",
        "from bitcoin.core import serialize\n",
        "import bitcoin"
      ]
    },
    {
      "cell_type": "code",
      "execution_count": 6,
      "metadata": {
        "colab": {
          "base_uri": "https://localhost:8080/"
        },
        "id": "xMO58c-5BL5c",
        "outputId": "ac671cec-73fd-4d6e-d454-4fec8c426367"
      },
      "outputs": [
        {
          "name": "stdout",
          "output_type": "stream",
          "text": [
            "My Private Key : 92KpE8WpCaVY2gpv3wdNSBPNadB2fZXZz8ERMoj4TWuTiKp9AYe\n",
            "My Public Key : CPubKey(b\"\\x04\\xc2G\\xf3\\x9d\\xc0\\xf2\\xb9\\xd2p\\xec\\xbc\\x83\\xdc_\\x03\\x1a\\xac\\rrx\\xfa}\\xbc\\n\\xce|;\\xc2\\x08$\\xd4W\\x85\\xc3\\xc7\\x93\\xf9\\x14\\x1f\\xf6/\\xd4,\\x90'\\xfd\\xc6H\\x8c\\xec\\xe8\\xba\\\\-\\xee\\xad\\xba\\xfb\\xf2\\x84\\xfb\\x8b\\xee;\")\n",
            "My Address : n4cdFzyVNQXv9dwoZ8G9EsV18PS2y5C6TG\n"
          ]
        }
      ],
      "source": [
        "bitcoin.SelectParams(\"testnet\")\n",
        "wif_private_key = \"92KpE8WpCaVY2gpv3wdNSBPNadB2fZXZz8ERMoj4TWuTiKp9AYe\"\n",
        "my_private_key = bitcoin.wallet.CBitcoinSecret(wif_private_key)\n",
        "my_public_key = my_private_key.pub\n",
        "my_address = bitcoin.wallet.P2PKHBitcoinAddress.from_pubkey(my_public_key)\n",
        "\n",
        "print(f\"My Private Key : {my_private_key}\")\n",
        "print(f\"My Public Key : {my_public_key}\")\n",
        "print(f\"My Address : {my_address}\")"
      ]
    },
    {
      "cell_type": "code",
      "execution_count": 7,
      "metadata": {
        "id": "UvLM6CMh8Uvq"
      },
      "outputs": [],
      "source": [
        "import requests\n",
        "\n",
        "from bitcoin.core.script import *\n",
        "from bitcoin.wallet import CBitcoinAddress\n",
        "from bitcoin.core import b2x, lx, COIN, COutPoint, CMutableTxOut, CMutableTxIn, CMutableTransaction, Hash160\n",
        "from bitcoin.core.scripteval import VerifyScript, SCRIPT_VERIFY_P2SH"
      ]
    },
    {
      "cell_type": "code",
      "execution_count": 8,
      "metadata": {
        "id": "ghGQBc6bBL5d"
      },
      "outputs": [],
      "source": [
        "def P2PKH_scriptPubKey(address):\n",
        "    return [\n",
        "        OP_DUP,\n",
        "        OP_HASH160,\n",
        "        Hash160(address),\n",
        "        OP_EQUALVERIFY,\n",
        "        OP_CHECKSIG\n",
        "    ]\n",
        "\n",
        "def create_OP_CHECKSIG_signature(txin, txout, txin_scriptPubKey, seckey):\n",
        "    tx = CMutableTransaction([txin], txout)\n",
        "    sighash = SignatureHash(CScript(txin_scriptPubKey), tx, 0, SIGHASH_ALL)\n",
        "    sig = seckey.sign(sighash) + bytes([SIGHASH_ALL])\n",
        "    return sig\n",
        "\n",
        "def P2PKH_scriptSig(txin, txout, txin_scriptPubKey):\n",
        "    signature = create_OP_CHECKSIG_signature(txin, txout, txin_scriptPubKey, my_private_key)\n",
        "    return [signature, my_public_key]"
      ]
    },
    {
      "cell_type": "code",
      "execution_count": 9,
      "metadata": {
        "id": "J0mwsnTQBL5d"
      },
      "outputs": [],
      "source": [
        "def create_txout(amount, scriptPubKey):\n",
        "    return CMutableTxOut(amount*COIN, CScript(scriptPubKey))\n",
        "\n",
        "def create_txin(txid, utxo_index):\n",
        "    return CMutableTxIn(COutPoint(lx(txid), utxo_index))\n",
        "\n",
        "def create_signed_transaction(txin, txout, txin_scriptPubKey, txin_scriptSig):\n",
        "    tx = CMutableTransaction([txin], txout)\n",
        "    txin.scriptSig = CScript(txin_scriptSig)\n",
        "    VerifyScript(\n",
        "        txin.scriptSig,\n",
        "        CScript(txin_scriptPubKey),\n",
        "        tx,\n",
        "        0,\n",
        "        (SCRIPT_VERIFY_P2SH,)\n",
        "    )\n",
        "    return tx\n",
        "\n",
        "def broadcast_transaction(tx):\n",
        "    raw_transaction = b2x(tx.serialize())\n",
        "    headers = {'content-type': 'application/x-www-form-urlencoded'}\n",
        "    return requests.post(\n",
        "        'https://api.blockcypher.com/v1/btc/test3/txs/push',\n",
        "        headers=headers,\n",
        "        # data=f'{{\"tx\": \"{raw_transaction}\"}}'\n",
        "        data='{\"tx\": \"%s\"}' % raw_transaction,\n",
        "    )"
      ]
    },
    {
      "cell_type": "code",
      "execution_count": 10,
      "metadata": {
        "id": "0zrI3Dmn9Uf_"
      },
      "outputs": [],
      "source": [
        "def send_from_custom_transaction(amount_to_send, txid_to_spend, utxo_index, txin_scriptPubKey,\n",
        "                                  txin_scriptSig, txout_scriptPubKey):\n",
        "    txout = create_txout(amount_to_send, txout_scriptPubKey)\n",
        "    txin = create_txin(txid_to_spend, utxo_index)\n",
        "    new_tx = create_signed_transaction(txin, txout, txin_scriptPubKey, txin_scriptSig)\n",
        "    return broadcast_transaction(new_tx)\n",
        "\n",
        "# def send_from_P2PKH_transaction(amount_to_send, txid_to_spend, utxo_index, txout_scriptPubKey):\n",
        "#     txout = create_txout(amount_to_send, txout_scriptPubKey)\n",
        "\n",
        "#     txin_scriptPubKey = P2PKH_scriptPubKey(my_public_key)\n",
        "#     txin = create_txin(txid_to_spend, utxo_index)\n",
        "#     txin_scriptSig = P2PKH_scriptSig(txin, txout, txin_scriptPubKey)\n",
        "\n",
        "#     new_tx = create_signed_transaction(txin, txout, txin_scriptPubKey, txin_scriptSig)\n",
        "\n",
        "#     return broadcast_transaction(new_tx)\n",
        "\n",
        "def print_info(response):\n",
        "    print(f\"Your address in base58: {my_address}\")\n",
        "    print(f\"Your public key in hex: {my_public_key.hex()}\")\n",
        "    print(f\"Your private key in hex: {my_private_key.hex()}\")\n",
        "    print(response.status_code, response.reason)\n",
        "    print(f\"Hash of transaction: {response.text}\")"
      ]
    },
    {
      "cell_type": "markdown",
      "metadata": {
        "id": "c-VNY4KpBL5e"
      },
      "source": [
        "Now use the provided functions to make these transactions:"
      ]
    },
    {
      "cell_type": "markdown",
      "metadata": {
        "id": "TTXoSeJuBL5e"
      },
      "source": [
        "#### 2.1: One input and two outputs transaction"
      ]
    },
    {
      "cell_type": "code",
      "execution_count": 24,
      "metadata": {
        "id": "85dnHcTH1RG0"
      },
      "outputs": [
        {
          "name": "stdout",
          "output_type": "stream",
          "text": [
            "Your address in base58: n4cdFzyVNQXv9dwoZ8G9EsV18PS2y5C6TG\n",
            "Your public key in hex: 04c247f39dc0f2b9d270ecbc83dc5f031aac0d7278fa7dbc0ace7c3bc20824d45785c3c793f9141ff62fd42c9027fdc6488cece8ba5c2deeadbafbf284fb8bee3b\n",
            "Your private key in hex: 61678501b340a00c6d8d9356ca6abe3c9d037d207920e2ac309e7f67e9cccde2\n",
            "201 Created\n",
            "Hash of transaction: {\n",
            "  \"tx\": {\n",
            "    \"block_height\": -1,\n",
            "    \"block_index\": -1,\n",
            "    \"hash\": \"47cf9cab1c18ca0883b7c851e8d7d8ced674fae365d86d83396fe9a6d370db1d\",\n",
            "    \"addresses\": [\n",
            "      \"n4cdFzyVNQXv9dwoZ8G9EsV18PS2y5C6TG\"\n",
            "    ],\n",
            "    \"total\": 275000,\n",
            "    \"fees\": 35000,\n",
            "    \"size\": 209,\n",
            "    \"vsize\": 209,\n",
            "    \"preference\": \"high\",\n",
            "    \"relayed_by\": \"188.118.96.50\",\n",
            "    \"received\": \"2024-05-27T15:58:33.957619135Z\",\n",
            "    \"ver\": 1,\n",
            "    \"double_spend\": false,\n",
            "    \"vin_sz\": 1,\n",
            "    \"vout_sz\": 2,\n",
            "    \"confirmations\": 0,\n",
            "    \"inputs\": [\n",
            "      {\n",
            "        \"prev_hash\": \"7990000f3f7276a3260d045b97d8c680f15e17d0e6f4f95e904986f82a8c55a6\",\n",
            "        \"output_index\": 1,\n",
            "        \"script\": \"47304402203551ef2f2f8d4ef7a3b7048eb7b5ee66eaf53d2010f0765123ca91f748cbb5e2022018485102b12536d68ad40a85903f69db47452ec7154beb688b0255bbd120d7f5014104c247f39dc0f2b9d270ecbc83dc5f031aac0d7278fa7dbc0ace7c3bc20824d45785c3c793f9141ff62fd42c9027fdc6488cece8ba5c2deeadbafbf284fb8bee3b\",\n",
            "        \"output_value\": 310000,\n",
            "        \"sequence\": 4294967295,\n",
            "        \"addresses\": [\n",
            "          \"n4cdFzyVNQXv9dwoZ8G9EsV18PS2y5C6TG\"\n",
            "        ],\n",
            "        \"script_type\": \"pay-to-pubkey-hash\",\n",
            "        \"age\": 2817413\n",
            "      }\n",
            "    ],\n",
            "    \"outputs\": [\n",
            "      {\n",
            "        \"value\": 5000,\n",
            "        \"script\": \"00\",\n",
            "        \"addresses\": null,\n",
            "        \"script_type\": \"unknown\"\n",
            "      },\n",
            "      {\n",
            "        \"value\": 270000,\n",
            "        \"script\": \"51\",\n",
            "        \"addresses\": null,\n",
            "        \"script_type\": \"unknown\"\n",
            "      }\n",
            "    ]\n",
            "  }\n",
            "}\n"
          ]
        }
      ],
      "source": [
        "# Transaction details\n",
        "\n",
        "\n",
        "amount2 = 0.0027 \n",
        "amount1 = 0.00005\n",
        "txid = '7990000f3f7276a3260d045b97d8c680f15e17d0e6f4f95e904986f82a8c55a6'\n",
        "utxo_index = 1\n",
        "\n",
        "def send_from_P2PKH_transaction_to_two_outputs(amount1, amount2, txid, utxo_index):\n",
        "    tx_output1 = create_txout(amount1, [OP_FALSE])\n",
        "    tx_output2 = create_txout(amount2, [OP_TRUE])\n",
        "\n",
        "    tx_input = create_txin(txid, utxo_index)\n",
        "    input_scriptPubKey = P2PKH_scriptPubKey(my_public_key)\n",
        "\n",
        "    input_scriptSig = P2PKH_scriptSig(tx_input, [tx_output1, tx_output2], input_scriptPubKey)\n",
        "\n",
        "    signed_tx = create_signed_transaction(tx_input, [tx_output1, tx_output2], input_scriptPubKey, input_scriptSig)\n",
        "\n",
        "    return broadcast_transaction(signed_tx)\n",
        "\n",
        "response = send_from_P2PKH_transaction_to_two_outputs(amount1, amount2, txid, utxo_index)\n",
        "\n",
        "print(f\"Your address in base58: {my_address}\")\n",
        "print(f\"Your public key in hex: {my_public_key.hex()}\")\n",
        "print(f\"Your private key in hex: {my_private_key.hex()}\")\n",
        "print(response.status_code, response.reason)\n",
        "print(f\"Hash of transaction: {response.text}\")\n"
      ]
    },
    {
      "cell_type": "code",
      "execution_count": 12,
      "metadata": {},
      "outputs": [
        {
          "name": "stdout",
          "output_type": "stream",
          "text": [
            "Your address in base58: n4cdFzyVNQXv9dwoZ8G9EsV18PS2y5C6TG\n",
            "Your public key in hex: 04c247f39dc0f2b9d270ecbc83dc5f031aac0d7278fa7dbc0ace7c3bc20824d45785c3c793f9141ff62fd42c9027fdc6488cece8ba5c2deeadbafbf284fb8bee3b\n",
            "Your private key in hex: 61678501b340a00c6d8d9356ca6abe3c9d037d207920e2ac309e7f67e9cccde2\n",
            "201 Created\n",
            "Hash of transaction: {\n",
            "  \"tx\": {\n",
            "    \"block_height\": -1,\n",
            "    \"block_index\": -1,\n",
            "    \"hash\": \"e8544aabf9af25e1547d4352d274638ce8b997bd5f0d221eeb98476dddd4a119\",\n",
            "    \"addresses\": [\n",
            "      \"n4cdFzyVNQXv9dwoZ8G9EsV18PS2y5C6TG\"\n",
            "    ],\n",
            "    \"total\": 235000,\n",
            "    \"fees\": 35000,\n",
            "    \"size\": 85,\n",
            "    \"vsize\": 85,\n",
            "    \"preference\": \"high\",\n",
            "    \"relayed_by\": \"104.244.77.108\",\n",
            "    \"received\": \"2024-05-27T20:19:55.051112986Z\",\n",
            "    \"ver\": 1,\n",
            "    \"double_spend\": false,\n",
            "    \"vin_sz\": 1,\n",
            "    \"vout_sz\": 1,\n",
            "    \"confirmations\": 0,\n",
            "    \"inputs\": [\n",
            "      {\n",
            "        \"prev_hash\": \"47cf9cab1c18ca0883b7c851e8d7d8ced674fae365d86d83396fe9a6d370db1d\",\n",
            "        \"output_index\": 1,\n",
            "        \"output_value\": 270000,\n",
            "        \"sequence\": 4294967295,\n",
            "        \"script_type\": \"unknown\",\n",
            "        \"age\": 2818101\n",
            "      }\n",
            "    ],\n",
            "    \"outputs\": [\n",
            "      {\n",
            "        \"value\": 235000,\n",
            "        \"script\": \"76a914fd5d7fb3f021f2483668cefd6239a0682a37895288ac\",\n",
            "        \"addresses\": [\n",
            "          \"n4cdFzyVNQXv9dwoZ8G9EsV18PS2y5C6TG\"\n",
            "        ],\n",
            "        \"script_type\": \"pay-to-pubkey-hash\"\n",
            "      }\n",
            "    ]\n",
            "  }\n",
            "}\n"
          ]
        }
      ],
      "source": [
        "amount = 0.00235\n",
        "txid = '47cf9cab1c18ca0883b7c851e8d7d8ced674fae365d86d83396fe9a6d370db1d'\n",
        "utxo_index = 1\n",
        "\n",
        "def create_and_broadcast_anyone_can_spend_p2pkh_tx(amount, txid, utxo_index, tx_output_scriptPubKey):\n",
        "    tx_output = create_txout(amount, tx_output_scriptPubKey)\n",
        "    tx_input = create_txin(txid, utxo_index)\n",
        "\n",
        "    input_scriptPubKey = [OP_TRUE]\n",
        "    input_scriptSig = []\n",
        "\n",
        "    signed_tx = create_signed_transaction(tx_input, [tx_output], input_scriptPubKey, input_scriptSig)\n",
        "\n",
        "    return broadcast_transaction(signed_tx)\n",
        "\n",
        "tx_output_scriptPubKey = P2PKH_scriptPubKey(my_public_key)\n",
        "response = create_and_broadcast_anyone_can_spend_p2pkh_tx(amount, txid, utxo_index, tx_output_scriptPubKey)\n",
        "\n",
        "print(f\"Your address in base58: {my_address}\")\n",
        "print(f\"Your public key in hex: {my_public_key.hex()}\")\n",
        "print(f\"Your private key in hex: {my_private_key.hex()}\")\n",
        "print(response.status_code, response.reason)\n",
        "print(f\"Hash of transaction: {response.text}\")"
      ]
    },
    {
      "cell_type": "markdown",
      "metadata": {
        "id": "dnTbp0SmBL5f"
      },
      "source": [
        "#### 2.2: Pay to MultiSig transaction (P2MS)\n"
      ]
    },
    {
      "cell_type": "code",
      "execution_count": 13,
      "metadata": {
        "id": "sEE-UadP0hgV"
      },
      "outputs": [],
      "source": [
        "key_pairs = []\n",
        "\n",
        "for _ in range(3):\n",
        "    private_key = generate_private_key()\n",
        "    public_key = private_key_to_public_key(private_key)\n",
        "    address = public_key_to_address(public_key)\n",
        "    wif_key = private_key_to_wif(private_key)\n",
        "\n",
        "    key_pair = {\n",
        "        \"address\": address,\n",
        "        \"wif_key\": wif_key\n",
        "    }\n",
        "    key_pairs.append(key_pair)"
      ]
    },
    {
      "cell_type": "code",
      "execution_count": 15,
      "metadata": {},
      "outputs": [
        {
          "name": "stdout",
          "output_type": "stream",
          "text": [
            "Address: mhAejg26Rvez6oQuJKr112w3vjrF97BvDX\n",
            "WIF Key: 93Q1MV3TbAeBkWgDDwqkzewfiqtxH9vsguq7kjdDGqzeBLDXftE\n",
            "\n",
            "Address: n2GWFEyXWVYvVWfTKKUPXLJVNHCFeMCLWo\n",
            "WIF Key: 92EL9fuukGsyYFfyfbofWUXiiNW9h4Db13sS15RXiW4EPpRCzec\n",
            "\n",
            "Address: mg6Hfu1yW9AXUz8KhxG2UJYiq3kK41NmvB\n",
            "WIF Key: 92e5FncVApKtZHnPqBEtHkcU3LgW2DxfVTHZskCdfgcb86XubPo\n",
            "\n"
          ]
        }
      ],
      "source": [
        "for key_pair in key_pairs:\n",
        "    print(\"Address:\", key_pair[\"address\"])\n",
        "    print(\"WIF Key:\", key_pair[\"wif_key\"])\n",
        "    print()"
      ]
    },
    {
      "cell_type": "code",
      "execution_count": 21,
      "metadata": {},
      "outputs": [],
      "source": [
        "key_details = []\n",
        "\n",
        "for key_pair in key_pairs:\n",
        "    address = key_pair[\"address\"]\n",
        "    wif = key_pair[\"wif_key\"]\n",
        "    private_key = bitcoin.wallet.CBitcoinSecret(wif)\n",
        "    public_key = private_key.pub\n",
        "    key_details.append({\n",
        "        'address': address,\n",
        "        'wif_key': wif,\n",
        "        'private_key': private_key,\n",
        "        'public_key': public_key\n",
        "    })"
      ]
    },
    {
      "cell_type": "code",
      "execution_count": 23,
      "metadata": {},
      "outputs": [
        {
          "name": "stdout",
          "output_type": "stream",
          "text": [
            "wif_key: 93Q1MV3TbAeBkWgDDwqkzewfiqtxH9vsguq7kjdDGqzeBLDXftE\n",
            "address: mhAejg26Rvez6oQuJKr112w3vjrF97BvDX\n",
            "Private Key: 93Q1MV3TbAeBkWgDDwqkzewfiqtxH9vsguq7kjdDGqzeBLDXftE\n",
            "Public Key: CPubKey(b\"\\x04\\x81Hm\\n\\xe1\\x89\\xadgt\\x88\\x0e\\xe7@\\xb8{hq\\xfc\\xf3G%w\\xc0\\x85<\\x87oi\\xfa\\xb4\\x06KB\\x80\\xe8\\xecP\\x1da%\\x87{\\xf9\\xce\\x965\\x9a\\xda\\x1d\\xa2a\\xd5'%\\xb6\\xe9\\xffr\\xc2o\\xc8\\x87\\xa6\\xd5\")\n",
            "\n",
            "wif_key: 92EL9fuukGsyYFfyfbofWUXiiNW9h4Db13sS15RXiW4EPpRCzec\n",
            "address: n2GWFEyXWVYvVWfTKKUPXLJVNHCFeMCLWo\n",
            "Private Key: 92EL9fuukGsyYFfyfbofWUXiiNW9h4Db13sS15RXiW4EPpRCzec\n",
            "Public Key: CPubKey(b'\\x04\\xfc\\x81\\x1e\\xcb\\x07\\xbaZ\\x93\\xf1\\x08_\\xd1/\\x11\\x1cH_\\x05\\x1c\"c\\xb3\\x96\\xf3\\xe6\\x1e\\xdb\\x88(`d^2\\xc3X\\x02\\xfb\\x0b\\xa5I\\xbej%+\\xe6\\xdc\\x9fm8r\\xc9\\x80Hm\\x9b\\xe6\\xd0\\xc6]\\x0b\\x14A\\x0f\\xd0')\n",
            "\n",
            "wif_key: 92e5FncVApKtZHnPqBEtHkcU3LgW2DxfVTHZskCdfgcb86XubPo\n",
            "address: mg6Hfu1yW9AXUz8KhxG2UJYiq3kK41NmvB\n",
            "Private Key: 92e5FncVApKtZHnPqBEtHkcU3LgW2DxfVTHZskCdfgcb86XubPo\n",
            "Public Key: CPubKey(b'\\x046P\\xe3O\\xe0}\\x02e\\x07\\xe6\\xf62oe#\\n\\xa2\\xfb\\xe1\\xb6sIj\\xfb\\xfa\\xd21\\x0cm\\xb8\\x8b\\xe4w\\xdd\\xccyR\\xf6\\\\\\xf7\\xf0\\x86\\xbb\\x9b\\xe6\\xcf\\x85\\xd3\\x94\\x8aP\"#\\xd3\\xed,\\xa9q{]f\\x1b%\\xa7')\n",
            "\n"
          ]
        }
      ],
      "source": [
        "for key_pair in key_details:\n",
        "    print(\"wif_key:\", key_pair['wif_key'])\n",
        "    print(\"address:\", key_pair['address'])\n",
        "    print(\"Private Key:\", key_pair['private_key'])\n",
        "    print(\"Public Key:\", key_pair['public_key'])\n",
        "    print()"
      ]
    },
    {
      "cell_type": "code",
      "execution_count": 10,
      "metadata": {},
      "outputs": [],
      "source": [
        "prik1= bitcoin.wallet.CBitcoinSecret('93Q1MV3TbAeBkWgDDwqkzewfiqtxH9vsguq7kjdDGqzeBLDXftE')\n",
        "pubk1 = prik1.pub\n",
        "\n",
        "prik2= bitcoin.wallet.CBitcoinSecret('92EL9fuukGsyYFfyfbofWUXiiNW9h4Db13sS15RXiW4EPpRCzec')\n",
        "pubk2 = prik2.pub\n",
        "\n",
        "prik3= bitcoin.wallet.CBitcoinSecret('92e5FncVApKtZHnPqBEtHkcU3LgW2DxfVTHZskCdfgcb86XubPo')\n",
        "pubk3 = prik3.pub"
      ]
    },
    {
      "cell_type": "code",
      "execution_count": 13,
      "metadata": {},
      "outputs": [
        {
          "name": "stdout",
          "output_type": "stream",
          "text": [
            "Your address in base58: n4cdFzyVNQXv9dwoZ8G9EsV18PS2y5C6TG\n",
            "Your public key in hex: 04c247f39dc0f2b9d270ecbc83dc5f031aac0d7278fa7dbc0ace7c3bc20824d45785c3c793f9141ff62fd42c9027fdc6488cece8ba5c2deeadbafbf284fb8bee3b\n",
            "Your private key in hex: 61678501b340a00c6d8d9356ca6abe3c9d037d207920e2ac309e7f67e9cccde2\n",
            "201 Created\n",
            "Hash of transaction: {\n",
            "  \"tx\": {\n",
            "    \"block_height\": -1,\n",
            "    \"block_index\": -1,\n",
            "    \"hash\": \"ef5edd992692bc886fc5f9f7158cf29b056f27dc86c64daf7dbb3da513380188\",\n",
            "    \"addresses\": [\n",
            "      \"n4cdFzyVNQXv9dwoZ8G9EsV18PS2y5C6TG\",\n",
            "      \"zWvxeNTAsJWmAi86bn695B8Ya8bgYhJDwU\"\n",
            "    ],\n",
            "    \"total\": 200000,\n",
            "    \"fees\": 35000,\n",
            "    \"size\": 400,\n",
            "    \"vsize\": 400,\n",
            "    \"preference\": \"medium\",\n",
            "    \"relayed_by\": \"104.244.77.108\",\n",
            "    \"received\": \"2024-05-28T21:52:59.259658518Z\",\n",
            "    \"ver\": 1,\n",
            "    \"double_spend\": false,\n",
            "    \"vin_sz\": 1,\n",
            "    \"vout_sz\": 1,\n",
            "    \"confirmations\": 0,\n",
            "    \"inputs\": [\n",
            "      {\n",
            "        \"prev_hash\": \"e8544aabf9af25e1547d4352d274638ce8b997bd5f0d221eeb98476dddd4a119\",\n",
            "        \"output_index\": 0,\n",
            "        \"script\": \"483045022100b7d02969b36d840039e60282edc1b9b6000de8644e67e0c7ce357327acabeed202204875aa3374b32afe986a288c6e9cd6735f09c1589d8b445b61410d4c3d871d6d014104c247f39dc0f2b9d270ecbc83dc5f031aac0d7278fa7dbc0ace7c3bc20824d45785c3c793f9141ff62fd42c9027fdc6488cece8ba5c2deeadbafbf284fb8bee3b\",\n",
            "        \"output_value\": 235000,\n",
            "        \"sequence\": 4294967295,\n",
            "        \"addresses\": [\n",
            "          \"n4cdFzyVNQXv9dwoZ8G9EsV18PS2y5C6TG\"\n",
            "        ],\n",
            "        \"script_type\": \"pay-to-pubkey-hash\",\n",
            "        \"age\": 2818133\n",
            "      }\n",
            "    ],\n",
            "    \"outputs\": [\n",
            "      {\n",
            "        \"value\": 200000,\n",
            "        \"script\": \"52410481486d0ae189ad6774880ee740b87b6871fcf3472577c0853c876f69fab4064b4280e8ec501d6125877bf9ce96359ada1da261d52725b6e9ff72c26fc887a6d54104fc811ecb07ba5a93f1085fd12f111c485f051c2263b396f3e61edb882860645e32c35802fb0ba549be6a252be6dc9f6d3872c980486d9be6d0c65d0b14410fd041043650e34fe07d026507e6f6326f65230aa2fbe1b673496afbfad2310c6db88be477ddcc7952f65cf7f086bb9be6cf85d3948a502223d3ed2ca9717b5d661b25a753ae\",\n",
            "        \"addresses\": [\n",
            "          \"zWvxeNTAsJWmAi86bn695B8Ya8bgYhJDwU\"\n",
            "        ],\n",
            "        \"script_type\": \"pay-to-multi-pubkey-hash\"\n",
            "      }\n",
            "    ]\n",
            "  }\n",
            "}\n"
          ]
        }
      ],
      "source": [
        "amount = 0.002\n",
        "txid = 'e8544aabf9af25e1547d4352d274638ce8b997bd5f0d221eeb98476dddd4a119'\n",
        "utxo_index = 0\n",
        "\n",
        "def create_and_broadcast_p2pkh_transaction(amount, txid, utxo_index, txout_scriptPubKey):\n",
        "    tx_input = create_txin(txid, utxo_index)\n",
        "    tx_output = create_txout(amount, txout_scriptPubKey)\n",
        "\n",
        "    input_scriptPubKey = P2PKH_scriptPubKey(my_public_key)\n",
        "    input_scriptSig = P2PKH_scriptSig(tx_input, [tx_output], input_scriptPubKey)\n",
        "    signed_tx = create_signed_transaction(tx_input, [tx_output], input_scriptPubKey, input_scriptSig)\n",
        "\n",
        "    return broadcast_transaction(signed_tx)\n",
        "\n",
        "txout_scriptPubKey = [OP_2, pubk1, pubk2, pubk3, OP_3, OP_CHECKMULTISIG]\n",
        "response = create_and_broadcast_p2pkh_transaction(amount, txid, utxo_index, txout_scriptPubKey)\n",
        "\n",
        "print(f\"Your address in base58: {my_address}\")\n",
        "print(f\"Your public key in hex: {my_public_key.hex()}\")\n",
        "print(f\"Your private key in hex: {my_private_key.hex()}\")\n",
        "print(response.status_code, response.reason)\n",
        "print(f\"Hash of transaction: {response.text}\")"
      ]
    },
    {
      "cell_type": "code",
      "execution_count": 12,
      "metadata": {},
      "outputs": [
        {
          "name": "stdout",
          "output_type": "stream",
          "text": [
            "Your address in base58: n4cdFzyVNQXv9dwoZ8G9EsV18PS2y5C6TG\n",
            "Your public key in hex: 04c247f39dc0f2b9d270ecbc83dc5f031aac0d7278fa7dbc0ace7c3bc20824d45785c3c793f9141ff62fd42c9027fdc6488cece8ba5c2deeadbafbf284fb8bee3b\n",
            "Your private key in hex: 61678501b340a00c6d8d9356ca6abe3c9d037d207920e2ac309e7f67e9cccde2\n",
            "400 Bad Request\n",
            "Hash of transaction: {\"error\": \"Error validating transaction: Transaction d97b10ce864c9cd5491f994b255c29ff756dea1182797738d8f4bd48899cd9b9 orphaned, missing reference c7bb1a3f6bbc41a265fe104058ce340eded15658c6fbd219dbe0f888f8e0c7f7.\"}\n"
          ]
        }
      ],
      "source": [
        "amount = 0.00165\n",
        "txid = 'c7bb1a3f6bbc41a265fe104058ce340eded15658c6fbd219dbe0f888f8e0c7f7'\n",
        "utxo_index = 0\n",
        "\n",
        "def create_multisig_p2pkh_scriptSig(tx_input, tx_output, input_scriptPubKey, private_key1, private_key2):\n",
        "    first_signature = create_OP_CHECKSIG_signature(tx_input, tx_output, input_scriptPubKey, private_key1)\n",
        "    second_signature = create_OP_CHECKSIG_signature(tx_input, tx_output, input_scriptPubKey, private_key2)\n",
        "    return [OP_0, first_signature, second_signature]\n",
        "\n",
        "def create_and_broadcast_multisig_p2pkh_tx(amount, txid, utxo_index, txout_scriptPubKey):\n",
        "    tx_input = create_txin(txid, utxo_index)\n",
        "    tx_output = create_txout(amount, txout_scriptPubKey)\n",
        "\n",
        "    input_scriptPubKey = [OP_2, pubk1, pubk2, pubk3, OP_3, OP_CHECKMULTISIG]\n",
        "    input_scriptSig = create_multisig_p2pkh_scriptSig(tx_input, [tx_output], input_scriptPubKey, prik1, prik2)\n",
        "  \n",
        "    signed_tx = create_signed_transaction(tx_input, [tx_output], input_scriptPubKey, input_scriptSig)\n",
        "\n",
        "    return broadcast_transaction(signed_tx)\n",
        "\n",
        "txout_scriptPubKey = P2PKH_scriptPubKey(my_public_key)\n",
        "response = create_and_broadcast_multisig_p2pkh_tx(amount, txid, utxo_index, txout_scriptPubKey)\n",
        "\n",
        "print(f\"Your address in base58: {my_address}\")\n",
        "print(f\"Your public key in hex: {my_public_key.hex()}\")\n",
        "print(f\"Your private key in hex: {my_private_key.hex()}\")\n",
        "print(response.status_code, response.reason)\n",
        "print(f\"Hash of transaction: {response.text}\")"
      ]
    },
    {
      "cell_type": "markdown",
      "metadata": {
        "id": "jcQm2fqhBL5f"
      },
      "source": [
        "#### 2.3: Custom Transaction (BitCoin Scripting)\n"
      ]
    },
    {
      "cell_type": "code",
      "execution_count": 11,
      "metadata": {},
      "outputs": [],
      "source": [
        "CURRENT_YEAR = 2024\n",
        "PASSWORD = 810100216\n",
        "DESIRED_AGE = 18"
      ]
    },
    {
      "cell_type": "code",
      "execution_count": 12,
      "metadata": {},
      "outputs": [],
      "source": [
        "def hash_password(password):\n",
        "    return Hash160(password.to_bytes(4, byteorder='little'))\n",
        "\n",
        "\n",
        "def get_tx_scriptPubKey():\n",
        "    return [OP_SUB, \n",
        "            DESIRED_AGE, \n",
        "            OP_GREATERTHAN, \n",
        "            OP_IF, \n",
        "                OP_DROP, \n",
        "                OP_TRUE,\n",
        "            OP_ELSE, \n",
        "                OP_HASH160, \n",
        "                hash_password(PASSWORD),\n",
        "                OP_EQUAL, \n",
        "            OP_ENDIF]"
      ]
    },
    {
      "cell_type": "code",
      "execution_count": 26,
      "metadata": {},
      "outputs": [
        {
          "name": "stdout",
          "output_type": "stream",
          "text": [
            "Your address in base58: n4cdFzyVNQXv9dwoZ8G9EsV18PS2y5C6TG\n",
            "Your public key in hex: 04c247f39dc0f2b9d270ecbc83dc5f031aac0d7278fa7dbc0ace7c3bc20824d45785c3c793f9141ff62fd42c9027fdc6488cece8ba5c2deeadbafbf284fb8bee3b\n",
            "Your private key in hex: 61678501b340a00c6d8d9356ca6abe3c9d037d207920e2ac309e7f67e9cccde2\n",
            "201 Created\n",
            "Hash of transaction: {\n",
            "  \"tx\": {\n",
            "    \"block_height\": -1,\n",
            "    \"block_index\": -1,\n",
            "    \"hash\": \"2e55ecd50cbb3ab434bc1451d48f7162411c5c0a162f26150a1c21e808987447\",\n",
            "    \"addresses\": [\n",
            "      \"n4cdFzyVNQXv9dwoZ8G9EsV18PS2y5C6TG\"\n",
            "    ],\n",
            "    \"total\": 163000,\n",
            "    \"fees\": 72000,\n",
            "    \"size\": 230,\n",
            "    \"vsize\": 230,\n",
            "    \"preference\": \"high\",\n",
            "    \"relayed_by\": \"104.244.77.108\",\n",
            "    \"received\": \"2024-05-29T13:32:12.807708952Z\",\n",
            "    \"ver\": 1,\n",
            "    \"double_spend\": false,\n",
            "    \"vin_sz\": 1,\n",
            "    \"vout_sz\": 1,\n",
            "    \"confirmations\": 0,\n",
            "    \"inputs\": [\n",
            "      {\n",
            "        \"prev_hash\": \"e8544aabf9af25e1547d4352d274638ce8b997bd5f0d221eeb98476dddd4a119\",\n",
            "        \"output_index\": 0,\n",
            "        \"script\": \"473044022002ef38ea961e14ce6063ff76a5cbc2d7fe8cedcb79a92731678f5a9d189b2ac8022067ec0a04a2b3a5362efcfff97afd9061bc500a121cf2c35e6a3ceabd6f53e0b1014104c247f39dc0f2b9d270ecbc83dc5f031aac0d7278fa7dbc0ace7c3bc20824d45785c3c793f9141ff62fd42c9027fdc6488cece8ba5c2deeadbafbf284fb8bee3b\",\n",
            "        \"output_value\": 235000,\n",
            "        \"sequence\": 4294967295,\n",
            "        \"addresses\": [\n",
            "          \"n4cdFzyVNQXv9dwoZ8G9EsV18PS2y5C6TG\"\n",
            "        ],\n",
            "        \"script_type\": \"pay-to-pubkey-hash\",\n",
            "        \"age\": 2818133\n",
            "      }\n",
            "    ],\n",
            "    \"outputs\": [\n",
            "      {\n",
            "        \"value\": 163000,\n",
            "        \"script\": \"940112a063755167a9143bc634ad4543997d3ca918c4015d993d825018758768\",\n",
            "        \"addresses\": null,\n",
            "        \"script_type\": \"unknown\"\n",
            "      }\n",
            "    ]\n",
            "  }\n",
            "}\n"
          ]
        }
      ],
      "source": [
        "amount = 0.00163\n",
        "txid = 'e8544aabf9af25e1547d4352d274638ce8b997bd5f0d221eeb98476dddd4a119'\n",
        "utxo_index = 0\n",
        "\n",
        "def create_and_broadcast_p2pkh_tx(amount, txid, utxo_index, txout_scriptPubKey):\n",
        "    tx_input = create_txin(txid, utxo_index)\n",
        "    tx_output = create_txout(amount, txout_scriptPubKey)\n",
        "\n",
        "    txin_scriptPubKey = P2PKH_scriptPubKey(my_public_key)\n",
        "    txin_scriptSig = P2PKH_scriptSig(tx_input, [tx_output], txin_scriptPubKey)\n",
        "    signed_tx = create_signed_transaction(tx_input, [tx_output], txin_scriptPubKey, txin_scriptSig)\n",
        "\n",
        "    return broadcast_transaction(signed_tx)\n",
        "\n",
        "response = create_and_broadcast_p2pkh_tx(amount, txid, utxo_index, get_tx_scriptPubKey())\n",
        "print(f\"Your address in base58: {my_address}\")\n",
        "print(f\"Your public key in hex: {my_public_key.hex()}\")\n",
        "print(f\"Your private key in hex: {my_private_key.hex()}\")\n",
        "print(response.status_code, response.reason)\n",
        "print(f\"Hash of transaction: {response.text}\")"
      ]
    },
    {
      "cell_type": "code",
      "execution_count": 13,
      "metadata": {},
      "outputs": [],
      "source": [
        "def get_tx_scriptSig(birth_year, password):\n",
        "    return [password, CURRENT_YEAR, birth_year]"
      ]
    },
    {
      "cell_type": "code",
      "execution_count": 16,
      "metadata": {},
      "outputs": [],
      "source": [
        "def create_and_broadcast_custom_p2pkh_tx(amount, txid, utxo_index, txout_scriptPubKey, birth_year, password):\n",
        "    tx_input = create_txin(txid, utxo_index)\n",
        "    tx_output = create_txout(amount, txout_scriptPubKey)\n",
        "\n",
        "    txin_scriptPubKey = get_tx_scriptPubKey()\n",
        "\n",
        "    txin_scriptSig = get_tx_scriptSig(birth_year,password)\n",
        "    signed_tx = create_signed_transaction(tx_input, [tx_output], txin_scriptPubKey, txin_scriptSig)\n",
        "\n",
        "    return broadcast_transaction(signed_tx)"
      ]
    },
    {
      "cell_type": "code",
      "execution_count": 19,
      "metadata": {},
      "outputs": [
        {
          "name": "stdout",
          "output_type": "stream",
          "text": [
            "Your address in base58: n4cdFzyVNQXv9dwoZ8G9EsV18PS2y5C6TG\n",
            "Your public key in hex: 04c247f39dc0f2b9d270ecbc83dc5f031aac0d7278fa7dbc0ace7c3bc20824d45785c3c793f9141ff62fd42c9027fdc6488cece8ba5c2deeadbafbf284fb8bee3b\n",
            "Your private key in hex: 61678501b340a00c6d8d9356ca6abe3c9d037d207920e2ac309e7f67e9cccde2\n",
            "400 Bad Request\n",
            "Hash of transaction: {\"error\": \"Error validating transaction: Transaction with hash 48bf32352fcc5fedbb604924f06fc22da892e02f4067fee2bc3b603a13cc6a19 already exists..\"}\n"
          ]
        }
      ],
      "source": [
        "amount = 0.00083\n",
        "txid = '2e55ecd50cbb3ab434bc1451d48f7162411c5c0a162f26150a1c21e808987447'\n",
        "utxo_index = 0\n",
        "response = create_and_broadcast_custom_p2pkh_tx(amount, txid, utxo_index, get_tx_scriptPubKey(), 2003, 810100215)\n",
        "print(f\"Your address in base58: {my_address}\")\n",
        "print(f\"Your public key in hex: {my_public_key.hex()}\")\n",
        "print(f\"Your private key in hex: {my_private_key.hex()}\")\n",
        "print(response.status_code, response.reason)\n",
        "print(f\"Hash of transaction: {response.text}\")"
      ]
    },
    {
      "cell_type": "code",
      "execution_count": 23,
      "metadata": {},
      "outputs": [
        {
          "name": "stdout",
          "output_type": "stream",
          "text": [
            "Your address in base58: n4cdFzyVNQXv9dwoZ8G9EsV18PS2y5C6TG\n",
            "Your public key in hex: 04c247f39dc0f2b9d270ecbc83dc5f031aac0d7278fa7dbc0ace7c3bc20824d45785c3c793f9141ff62fd42c9027fdc6488cece8ba5c2deeadbafbf284fb8bee3b\n",
            "Your private key in hex: 61678501b340a00c6d8d9356ca6abe3c9d037d207920e2ac309e7f67e9cccde2\n"
          ]
        },
        {
          "ename": "AttributeError",
          "evalue": "'NoneType' object has no attribute 'status_code'",
          "output_type": "error",
          "traceback": [
            "\u001b[0;31m---------------------------------------------------------------------------\u001b[0m",
            "\u001b[0;31mAttributeError\u001b[0m                            Traceback (most recent call last)",
            "Cell \u001b[0;32mIn[23], line 8\u001b[0m\n\u001b[1;32m      6\u001b[0m \u001b[38;5;28mprint\u001b[39m(\u001b[38;5;124mf\u001b[39m\u001b[38;5;124m\"\u001b[39m\u001b[38;5;124mYour public key in hex: \u001b[39m\u001b[38;5;132;01m{\u001b[39;00mmy_public_key\u001b[38;5;241m.\u001b[39mhex()\u001b[38;5;132;01m}\u001b[39;00m\u001b[38;5;124m\"\u001b[39m)\n\u001b[1;32m      7\u001b[0m \u001b[38;5;28mprint\u001b[39m(\u001b[38;5;124mf\u001b[39m\u001b[38;5;124m\"\u001b[39m\u001b[38;5;124mYour private key in hex: \u001b[39m\u001b[38;5;132;01m{\u001b[39;00mmy_private_key\u001b[38;5;241m.\u001b[39mhex()\u001b[38;5;132;01m}\u001b[39;00m\u001b[38;5;124m\"\u001b[39m)\n\u001b[0;32m----> 8\u001b[0m \u001b[38;5;28mprint\u001b[39m(\u001b[43mresponse\u001b[49m\u001b[38;5;241;43m.\u001b[39;49m\u001b[43mstatus_code\u001b[49m, response\u001b[38;5;241m.\u001b[39mreason)\n\u001b[1;32m      9\u001b[0m \u001b[38;5;28mprint\u001b[39m(\u001b[38;5;124mf\u001b[39m\u001b[38;5;124m\"\u001b[39m\u001b[38;5;124mHash of transaction: \u001b[39m\u001b[38;5;132;01m{\u001b[39;00mresponse\u001b[38;5;241m.\u001b[39mtext\u001b[38;5;132;01m}\u001b[39;00m\u001b[38;5;124m\"\u001b[39m)\n",
            "\u001b[0;31mAttributeError\u001b[0m: 'NoneType' object has no attribute 'status_code'"
          ]
        }
      ],
      "source": [
        "amount = 0.00003\n",
        "txid = '48bf32352fcc5fedbb604924f06fc22da892e02f4067fee2bc3b603a13cc6a19'\n",
        "utxo_index = 0\n",
        "response = create_and_broadcast_custom_p2pkh_tx(amount, txid, utxo_index, P2PKH_scriptPubKey(my_public_key), 2010, 810100216)\n",
        "print(f\"Your address in base58: {my_address}\")\n",
        "print(f\"Your public key in hex: {my_public_key.hex()}\")\n",
        "print(f\"Your private key in hex: {my_private_key.hex()}\")\n",
        "print(response.status_code, response.reason)\n",
        "print(f\"Hash of transaction: {response.text}\")"
      ]
    },
    {
      "cell_type": "markdown",
      "metadata": {},
      "source": [
        "#### Q1. Burning Transactions"
      ]
    },
    {
      "cell_type": "markdown",
      "metadata": {},
      "source": [
        "**Proof of Burn** (PoB):\n",
        "PoB is a consensus mechanism used by some blockchains to achieve distributed consensus.\n",
        "Validators participate by burning or permanently destroying a portion of the cryptocurrency tokens they own.\n",
        "By doing so, they earn the right to participate in the network’s protocol, such as creating blocks or earning transaction fees.\n",
        "<br>\n",
        "<br>\n",
        "**How Does Proof of Burn Work**?\n",
        "<br>\n",
        "In PoB, miners demonstrate their commitment to the network by burning coins. They send these coins to specialized addresses where they can never be spent.\n",
        "Unlike Proof of Work (PoW), PoB doesn’t require powerful computational resources or specialized mining hardware (like ASICs).\n",
        "Instead, miners invest in virtual mining power through coin burns. The more coins a user burns, the higher their mining power, increasing their chances of being chosen as the next block validator.\n",
        "<br>\n",
        "<br>\n",
        "**Benefits and Considerations**:\n",
        "<br>\n",
        "- Reduced Energy Consumption: <br>PoB reduces energy usage compared to PoW.\n",
        "- Long-Term Commitment: <br>Burning coins signals commitment to the network.\n",
        "- Scarcity and Value: <br>Reduced circulating supply due to burned coins can increase scarcity and perceived value.\n",
        "- Incentive Alignment: <br>Participants have a vested interest in network success.\n",
        "- Security: <br>PoB discourages Sybil attacks by requiring real-world resource investment.\n",
        "\n",
        "\n",
        "\n",
        "To prevent the possibility of unfair advantages for early adopters the POB system has implemented a mechanism that promotes the periodic burning of cryptocurrency coins to maintain mining power. <br>The power of burnt coins reduces partially each time a new block is mined. This promotes regular activity by the miner.\n",
        "\n",
        "Burning coins can `cause more justice in the network` because the power in consensus does not just depend on mining power of miners.\n",
        "\n",
        "Burning coins `reduces the total supply of bitcoins`. This reduction acts like remurrage on the remaining coins increasing their value proportionally. For example, if 21 million bitcoins exist and 2 million are burned, the remaining 19 million bitcoins effectively increase in value as if multiplied by 21/19 (around 1.105).\n",
        "\n",
        "**Similarity to real world**<br>\n",
        "In real world, the real value of holdings increases quietly due to the reduced supply. Holders can spend a portion of their holdings that represents this value increase without losing their original share of the total supply."
      ]
    },
    {
      "cell_type": "markdown",
      "metadata": {},
      "source": [
        "#### Q2. Bitcoin Scrpting"
      ]
    },
    {
      "cell_type": "markdown",
      "metadata": {},
      "source": [
        "Bitcoin uses a scripting system for transactions. The scripting language, known as `Script`, is simple, stack-based, and processed from left to right.\n",
        "<br><br>\n",
        "Its primary purpose is to define the conditions under which someone can spend the Bitcoins being transferred in a transaction.\n",
        "Each transaction includes a script that outlines these spending conditions.\n",
        "<br><br>\n",
        "Script is designed to be deterministic which means that the same script will always produce the same result given the same input. So every node in the Bitcoin network will reach the same conclusion about whether a transaction is valid. \n",
        "<br><br>\n",
        "**Turing completeness** refers to a system’s ability to solve any problem that a Turing machine can solve. A Turing-complete system can execute any algorithm.\n",
        "<br>\n",
        "Bitcoin’s Script is intentionally not Turing-complete. It lacks `loops` and certain features that would make it fully expressive like a general-purpose programming language. This design choice ensures `simplicity`, `security`, and `predictability` within the Bitcoin network.\n",
        "\n",
        "**Transactions in Bitcoin involve two types of scripts**:\n",
        "- Locking Script (`ScriptPubKey`): <br>This script specifies the conditions that must be met for someone to spend the bitcoins.\n",
        "- Unlocking Script (`ScriptSig`): <br>This script provides the data required to satisfy the conditions set by the locking script.\n",
        "\n",
        "**Advantages of Non-Turing Completeness**:\n",
        "- Security: <br>By avoiding Turing completeness, Bitcoin Script reduces the risk of unintended vulnerabilities or unpredictable behavior.<br><br>\n",
        "- Predictability: <br>The limited functionality ensures that transactions behave as expected, minimizing surprises.<br><br>\n",
        "- Focus on Currency: <br>Bitcoin’s primary goal is to function as a decentralized digital currency system. Keeping Script non-Turing complete aligns with this goal.\n",
        "\n",
        "**Potential benefits if it was turing complete**:\n",
        "A Turing complete language could enable a wider variety of complex applications. This could include more sophisticated multi-signature schemes and etc. By allowing more complex scripts Bitcoin could compete more directly with other blockchain platforms like Ethereum which are designed with Turing complete languages."
      ]
    },
    {
      "cell_type": "markdown",
      "metadata": {},
      "source": [
        "#### Some Useful Links"
      ]
    },
    {
      "cell_type": "markdown",
      "metadata": {},
      "source": [
        "- [Faucet](https://coinfaucet.eu/en/btc-testnet/)\n",
        "- [Test BTC wallet Detail](https://live.blockcypher.com/btc-testnet/address/n4cdFzyVNQXv9dwoZ8G9EsV18PS2y5C6TG/#google_vignette)\n",
        "- [Firt Transaction (Part 1)](https://live.blockcypher.com/btc-testnet/tx/47cf9cab1c18ca0883b7c851e8d7d8ced674fae365d86d83396fe9a6d370db1d/#google_vignette)\n",
        "- [Second Transaction (Part 1)](https://live.blockcypher.com/btc-testnet/tx/e8544aabf9af25e1547d4352d274638ce8b997bd5f0d221eeb98476dddd4a119/)\n",
        "- [Firt Transaction (Part 2)]()\n",
        "- [Second Transaction (Part 2)]()\n",
        "- [Firt Transaction (Part 3)](https://live.blockcypher.com/btc-testnet/tx/2e55ecd50cbb3ab434bc1451d48f7162411c5c0a162f26150a1c21e808987447/)\n",
        "- [Second Transaction (Part 3)](https://live.blockcypher.com/btc-testnet/tx/48bf32352fcc5fedbb604924f06fc22da892e02f4067fee2bc3b603a13cc6a19/)\n",
        "- [Third Transaction (Part 3)]()"
      ]
    },
    {
      "cell_type": "markdown",
      "metadata": {},
      "source": []
    }
  ],
  "metadata": {
    "colab": {
      "provenance": []
    },
    "kernelspec": {
      "display_name": "Python 3",
      "language": "python",
      "name": "python3"
    },
    "language_info": {
      "codemirror_mode": {
        "name": "ipython",
        "version": 3
      },
      "file_extension": ".py",
      "mimetype": "text/x-python",
      "name": "python",
      "nbconvert_exporter": "python",
      "pygments_lexer": "ipython3",
      "version": "3.10.12"
    }
  },
  "nbformat": 4,
  "nbformat_minor": 0
}
