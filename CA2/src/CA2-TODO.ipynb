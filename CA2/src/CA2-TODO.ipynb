{
 "cells": [
  {
   "cell_type": "markdown",
   "metadata": {},
   "source": [
    "# <center>CryptoCurrencies CA#2<center>\n",
    "<h1><center>Transacting on Bitcoin TestNet / Firing up an Ethereum Node<center></h1>\n",
    "\n",
    "#### <center>Mobina - Mehrazar<center>\n",
    "#### <center>810100216<center>"
   ]
  },
  {
   "cell_type": "code",
   "execution_count": 27,
   "metadata": {},
   "outputs": [],
   "source": [
    "import secrets\n",
    "import hashlib\n",
    "import base58\n",
    "import ecdsa"
   ]
  },
  {
   "cell_type": "markdown",
   "metadata": {},
   "source": [
    "### 1. Address Generation:"
   ]
  },
  {
   "cell_type": "markdown",
   "metadata": {},
   "source": [
    "#### 1.1: Base58 and WIF address"
   ]
  },
  {
   "cell_type": "code",
   "execution_count": 2,
   "metadata": {},
   "outputs": [],
   "source": [
    "# Python script that generates a Bitcoin testnet address along with its corresponding private key in Wallet Import Format (WIF)\n",
    "# The script uses the pycoin library to generate the address and private key"
   ]
  },
  {
   "cell_type": "code",
   "execution_count": 3,
   "metadata": {},
   "outputs": [],
   "source": [
    "# import enum\n",
    "# import hashlib\n",
    "# import secrets\n",
    "\n",
    "# import base58\n",
    "# import ecdsa\n",
    "\n",
    "\n",
    "# class Wallet:\n",
    "#     class Network(enum.Enum):\n",
    "#         MAINNET = 0\n",
    "#         TESTNET = 1\n",
    "\n",
    "#     def __init__(self, network: Network = Network.TESTNET):\n",
    "#         self.network = network\n",
    "#         self._private_key = b\"\"\n",
    "#         self._public_key = b\"\"\n",
    "#         self._bitcoin_address = \"\"\n",
    "\n",
    "#     def __str__(self):\n",
    "#         return (\n",
    "#             f\"Address:           {self.bitcoin_address}\\n\"\n",
    "#             f\"Private key (WIF): {self.private_key_wif}\\n\"\n",
    "#             f\"Private key:       {self.private_key}\\n\"\n",
    "#             f\"Public key:        {self.public_key}\"\n",
    "#         )\n",
    "\n",
    "#     @property\n",
    "#     def network(self) -> Network:\n",
    "#         return self._network\n",
    "\n",
    "#     @network.setter\n",
    "#     def network(self, network: Network):\n",
    "#         self._network = network\n",
    "\n",
    "#     @property\n",
    "#     def private_key_wif(self) -> str:\n",
    "#         return self._to_wif(self._private_key)\n",
    "\n",
    "#     @property\n",
    "#     def private_key(self) -> str:\n",
    "#         return self._private_key.hex()\n",
    "\n",
    "#     @property\n",
    "#     def public_key(self) -> str:\n",
    "#         return self._public_key.hex()\n",
    "\n",
    "#     @property\n",
    "#     def bitcoin_address(self) -> str:\n",
    "#         return self._bitcoin_address\n",
    "\n",
    "#     def generate(self) -> None:\n",
    "#         self._private_key = secrets.token_bytes(32)\n",
    "#         self._generate_public_key()\n",
    "#         self._generate_bitcoin_address()\n",
    "\n",
    "#     def generate_from_wif(self, private_key_wif: str) -> None:\n",
    "#         self._private_key = self._from_wif(private_key_wif)\n",
    "#         self._generate_public_key()\n",
    "#         self._generate_bitcoin_address()\n",
    "\n",
    "#     def _get_network_byte(self, is_private: bool = True) -> bytes:\n",
    "#         if is_private:\n",
    "#             if self.network == Wallet.Network.MAINNET:\n",
    "#                 return b\"\\x80\"\n",
    "#             if self.network == Wallet.Network.TESTNET:\n",
    "#                 return b\"\\xef\"\n",
    "#             raise ValueError(\"Invalid network\")\n",
    "#         elif self.network == Wallet.Network.MAINNET:\n",
    "#             return b\"\\x00\"\n",
    "#         elif self.network == Wallet.Network.TESTNET:\n",
    "#             return b\"\\x6f\"\n",
    "#         else:\n",
    "#             raise ValueError(\"Invalid network\")\n",
    "\n",
    "#     def _generate_public_key(self) -> None:\n",
    "#         public_key = ecdsa.SigningKey.from_string(\n",
    "#             self._private_key, curve=ecdsa.SECP256k1\n",
    "#         ).verifying_key\n",
    "\n",
    "#         if public_key is None:\n",
    "#             raise ValueError(\"Invalid public key\")\n",
    "\n",
    "#         self._public_key = (\n",
    "#             b\"\\x04\" + public_key.to_string()\n",
    "#         )  # 0x04 is the prefix for uncompressed public keys\n",
    "\n",
    "#     def _generate_bitcoin_address(self) -> None:\n",
    "#         sha256 = hashlib.sha256(self._public_key).digest()\n",
    "#         ripemd160 = hashlib.new(\"ripemd160\")\n",
    "#         ripemd160.update(sha256)\n",
    "\n",
    "#         self._bitcoin_address = self._to_wif(ripemd160.digest(), is_private=False)\n",
    "\n",
    "#     def _to_wif(self, key: bytes, is_private: bool = True) -> str:\n",
    "#         network_byte = self._get_network_byte(is_private)\n",
    "#         key_with_network_byte = network_byte + key\n",
    "#         sha256_1 = hashlib.sha256(key_with_network_byte).digest()\n",
    "#         sha256_2 = hashlib.sha256(sha256_1).digest()\n",
    "#         checksum = sha256_2[:4]\n",
    "#         binary_key = key_with_network_byte + checksum\n",
    "#         wif = base58.b58encode(binary_key).decode(\"utf-8\")\n",
    "#         return wif\n",
    "\n",
    "#     def _from_wif(self, wif: str) -> bytes:\n",
    "#         binary_key = base58.b58decode(wif)\n",
    "#         key = binary_key[:-4]\n",
    "#         checksum = binary_key[-4:]\n",
    "#         sha256_1 = hashlib.sha256(key).digest()\n",
    "#         sha256_2 = hashlib.sha256(sha256_1).digest()\n",
    "#         if checksum != sha256_2[:4]:\n",
    "#             raise ValueError(\"Invalid WIF\")\n",
    "#         network_byte = key[0:1]\n",
    "#         if network_byte != self._get_network_byte():\n",
    "#             raise ValueError(\"Invalid WIF\")\n",
    "#         return key[1:]\n",
    "\n",
    "\n",
    "# def main():\n",
    "#     wallet = Wallet(network=Wallet.Network.TESTNET)\n",
    "#     wallet.generate()\n",
    "#     print(wallet)\n",
    "\n",
    "\n",
    "# if __name__ == \"__main__\":\n",
    "#     main()\n"
   ]
  },
  {
   "cell_type": "code",
   "execution_count": 4,
   "metadata": {},
   "outputs": [],
   "source": [
    "def generate_private_key():\n",
    "    return secrets.token_bytes(32)\n",
    "\n",
    "def private_key_to_wif(private_key):\n",
    "    # Add version byte (0xEF for testnet)\n",
    "    extended_key = b'\\xEF' + private_key\n",
    "    # Perform SHA-256 hash twice\n",
    "    hashed_key = hashlib.sha256(extended_key).digest()\n",
    "    hashed_key = hashlib.sha256(hashed_key).digest()\n",
    "    # Add checksum\n",
    "    wif_key = extended_key + hashed_key[:4]\n",
    "    # Convert to base58\n",
    "    return base58.b58encode(wif_key)\n",
    "\n",
    "def private_key_to_public_key(private_key):\n",
    "    # Create public key using SECP256k1 curve\n",
    "    vk = ecdsa.SigningKey.from_string(\n",
    "            private_key, \n",
    "            curve=ecdsa.SECP256k1\n",
    "         ).verifying_key\n",
    "    return b'\\x04' + vk.to_string()\n",
    "\n",
    "def public_key_to_address(public_key):\n",
    "    # Perform SHA-256 hash\n",
    "    sha256_hash = hashlib.sha256(public_key).digest()\n",
    "    # Perform RIPEMD-160 hash\n",
    "    ripemd160 = hashlib.new('ripemd160')\n",
    "    ripemd160.update(sha256_hash)\n",
    "    hashed_public_key = ripemd160.digest()\n",
    "    # Add version byte (0x6F for testnet)\n",
    "    extended_key = b'\\x6F' + hashed_public_key\n",
    "    # Perform SHA-256 hash twice\n",
    "    hashed_key = hashlib.sha256(extended_key).digest()\n",
    "    hashed_key = hashlib.sha256(hashed_key).digest()\n",
    "    # Add checksum\n",
    "    address = extended_key + hashed_key[:4]\n",
    "    # Convert to base58\n",
    "    return base58.b58encode(address)\n",
    "\n",
    "def generate_vanity_address(prefix):\n",
    "    prefix_len=len(prefix)\n",
    "    while True:\n",
    "        private_key = generate_private_key()\n",
    "        public_key = private_key_to_public_key(private_key)\n",
    "        address = public_key_to_address(public_key).decode()\n",
    "        # Check if the address matches the desired prefix\n",
    "        if address[1:prefix_len+1] == prefix:\n",
    "            wif_key = private_key_to_wif(private_key).decode()\n",
    "            return private_key, wif_key, public_key, address\n"
   ]
  },
  {
   "cell_type": "markdown",
   "metadata": {},
   "source": [
    "#### 1.2: Vanity Address Generator\n"
   ]
  },
  {
   "cell_type": "code",
   "execution_count": 7,
   "metadata": {},
   "outputs": [
    {
     "name": "stdout",
     "output_type": "stream",
     "text": [
      "Private Key (hex): fd41d2da5785a3feb957c0ccb86a839feef88736767b87875d729b6874961b8e\n",
      "Private Key (WIF): 93WTGzTsFrF3Kr4PZQhFwLnNY1Kkrx71HZPnmNhu3qX8TqHqJq6\n",
      "Public Key (hex): 04f94193c5023a658abd40ff85cc4fa4bbf029cbba4de035a27d9bfda1ba19461692ad2faa65686f4ca133e2ffec1838e4fd6bb037a5477a9e580fdf91beab49dd\n",
      "Bitcoin Testnet Address: mnmajjHUSziB1J83YU1ZPGVBtHP6ww3w4i\n"
     ]
    }
   ],
   "source": [
    "desired_prefix = \"nma\"\n",
    "\n",
    "private_key, wif_key, public_key, address = generate_vanity_address(desired_prefix)\n",
    "\n",
    "print(\"Private Key (hex):\", private_key.hex())\n",
    "print(\"Private Key (WIF):\", wif_key)\n",
    "print(\"Public Key (hex):\", public_key.hex())\n",
    "print(\"Bitcoin Testnet Address:\", address)\n"
   ]
  },
  {
   "cell_type": "markdown",
   "metadata": {},
   "source": [
    "### 2. Transacting on Bitcoin TestNet:"
   ]
  },
  {
   "cell_type": "markdown",
   "metadata": {},
   "source": [
    "Here are some utility functions that you will need to use in order to make transactions. Fill the #TODO parts in the functions in order to be used in the next steps:"
   ]
  },
  {
   "cell_type": "markdown",
   "metadata": {},
   "source": [
    "#### Utility Functions:"
   ]
  },
  {
   "cell_type": "code",
   "execution_count": 28,
   "metadata": {},
   "outputs": [],
   "source": [
    "import bitcoin\n",
    "from bitcoinlib.wallets import Wallet\n",
    "from bitcoinlib.mnemonic import Mnemonic"
   ]
  },
  {
   "cell_type": "code",
   "execution_count": 29,
   "metadata": {},
   "outputs": [],
   "source": [
    "from bitcoin.core import COIN, b2lx, serialize, x, lx, b2x"
   ]
  },
  {
   "cell_type": "code",
   "execution_count": 30,
   "metadata": {},
   "outputs": [],
   "source": [
    "import bitcoin # Added by me\n",
    "from utils import *"
   ]
  },
  {
   "cell_type": "code",
   "execution_count": 31,
   "metadata": {},
   "outputs": [
    {
     "ename": "OSError",
     "evalue": "[WinError 193] %1 is not a valid Win32 application",
     "output_type": "error",
     "traceback": [
      "\u001b[1;31m---------------------------------------------------------------------------\u001b[0m",
      "\u001b[1;31mOSError\u001b[0m                                   Traceback (most recent call last)",
      "\u001b[1;32mc:\\Users\\ASUS\\Desktop\\github-clones\\Cryptocurrency-Course-Projects-S2024\\CA2\\src\\CA2-TODO.ipynb Cell 16\u001b[0m line \u001b[0;36m3\n\u001b[0;32m      <a href='vscode-notebook-cell:/c%3A/Users/ASUS/Desktop/github-clones/Cryptocurrency-Course-Projects-S2024/CA2/src/CA2-TODO.ipynb#X34sZmlsZQ%3D%3D?line=0'>1</a>\u001b[0m \u001b[39mimport\u001b[39;00m \u001b[39mbitcoin\u001b[39;00m\n\u001b[0;32m      <a href='vscode-notebook-cell:/c%3A/Users/ASUS/Desktop/github-clones/Cryptocurrency-Course-Projects-S2024/CA2/src/CA2-TODO.ipynb#X34sZmlsZQ%3D%3D?line=1'>2</a>\u001b[0m \u001b[39mimport\u001b[39;00m \u001b[39mbitcoin\u001b[39;00m\u001b[39m.\u001b[39;00m\u001b[39mcore\u001b[39;00m\n\u001b[1;32m----> <a href='vscode-notebook-cell:/c%3A/Users/ASUS/Desktop/github-clones/Cryptocurrency-Course-Projects-S2024/CA2/src/CA2-TODO.ipynb#X34sZmlsZQ%3D%3D?line=2'>3</a>\u001b[0m \u001b[39mfrom\u001b[39;00m \u001b[39mbitcoin\u001b[39;00m\u001b[39m.\u001b[39;00m\u001b[39mwallet\u001b[39;00m \u001b[39mimport\u001b[39;00m CBitcoinSecret, P2PKHBitcoinAddress\n\u001b[0;32m      <a href='vscode-notebook-cell:/c%3A/Users/ASUS/Desktop/github-clones/Cryptocurrency-Course-Projects-S2024/CA2/src/CA2-TODO.ipynb#X34sZmlsZQ%3D%3D?line=3'>4</a>\u001b[0m \u001b[39m# from bitcoin.core import b2lx\u001b[39;00m\n\u001b[0;32m      <a href='vscode-notebook-cell:/c%3A/Users/ASUS/Desktop/github-clones/Cryptocurrency-Course-Projects-S2024/CA2/src/CA2-TODO.ipynb#X34sZmlsZQ%3D%3D?line=4'>5</a>\u001b[0m \u001b[39m# from bitcoin.core import COIN, lx, b2x\u001b[39;00m\n\u001b[0;32m      <a href='vscode-notebook-cell:/c%3A/Users/ASUS/Desktop/github-clones/Cryptocurrency-Course-Projects-S2024/CA2/src/CA2-TODO.ipynb#X34sZmlsZQ%3D%3D?line=5'>6</a>\u001b[0m \u001b[39m# from bitcoin.core import serialize\u001b[39;00m\n\u001b[0;32m      <a href='vscode-notebook-cell:/c%3A/Users/ASUS/Desktop/github-clones/Cryptocurrency-Course-Projects-S2024/CA2/src/CA2-TODO.ipynb#X34sZmlsZQ%3D%3D?line=6'>7</a>\u001b[0m \u001b[39m# from bitcoinlib.mnemonic import Mnemonic\u001b[39;00m\n",
      "File \u001b[1;32m~\\AppData\\Roaming\\Python\\Python311\\site-packages\\bitcoin\\wallet.py:23\u001b[0m\n\u001b[0;32m     21\u001b[0m \u001b[39mimport\u001b[39;00m \u001b[39mbitcoin\u001b[39;00m\u001b[39m.\u001b[39;00m\u001b[39mbech32\u001b[39;00m\n\u001b[0;32m     22\u001b[0m \u001b[39mimport\u001b[39;00m \u001b[39mbitcoin\u001b[39;00m\u001b[39m.\u001b[39;00m\u001b[39mcore\u001b[39;00m\n\u001b[1;32m---> 23\u001b[0m \u001b[39mimport\u001b[39;00m \u001b[39mbitcoin\u001b[39;00m\u001b[39m.\u001b[39;00m\u001b[39mcore\u001b[39;00m\u001b[39m.\u001b[39;00m\u001b[39mkey\u001b[39;00m\n\u001b[0;32m     24\u001b[0m \u001b[39mimport\u001b[39;00m \u001b[39mbitcoin\u001b[39;00m\u001b[39m.\u001b[39;00m\u001b[39mcore\u001b[39;00m\u001b[39m.\u001b[39;00m\u001b[39mscript\u001b[39;00m \u001b[39mas\u001b[39;00m \u001b[39mscript\u001b[39;00m\n\u001b[0;32m     27\u001b[0m \u001b[39mclass\u001b[39;00m \u001b[39mCBitcoinAddress\u001b[39;00m(\u001b[39mobject\u001b[39m):\n",
      "File \u001b[1;32m~\\AppData\\Roaming\\Python\\Python311\\site-packages\\bitcoin\\core\\key.py:27\u001b[0m\n\u001b[0;32m     23\u001b[0m \u001b[39mimport\u001b[39;00m \u001b[39mbitcoin\u001b[39;00m\u001b[39m.\u001b[39;00m\u001b[39msignature\u001b[39;00m\n\u001b[0;32m     25\u001b[0m \u001b[39mimport\u001b[39;00m \u001b[39mbitcoin\u001b[39;00m\u001b[39m.\u001b[39;00m\u001b[39mcore\u001b[39;00m\u001b[39m.\u001b[39;00m\u001b[39mscript\u001b[39;00m\n\u001b[1;32m---> 27\u001b[0m _ssl \u001b[39m=\u001b[39m ctypes\u001b[39m.\u001b[39;49mcdll\u001b[39m.\u001b[39;49mLoadLibrary(\n\u001b[0;32m     28\u001b[0m     ctypes\u001b[39m.\u001b[39;49mutil\u001b[39m.\u001b[39;49mfind_library(\u001b[39m'\u001b[39;49m\u001b[39mssl.35\u001b[39;49m\u001b[39m'\u001b[39;49m) \u001b[39mor\u001b[39;49;00m ctypes\u001b[39m.\u001b[39;49mutil\u001b[39m.\u001b[39;49mfind_library(\u001b[39m'\u001b[39;49m\u001b[39mssl\u001b[39;49m\u001b[39m'\u001b[39;49m) \u001b[39mor\u001b[39;49;00m ctypes\u001b[39m.\u001b[39;49mutil\u001b[39m.\u001b[39;49mfind_library(\u001b[39m'\u001b[39;49m\u001b[39mlibeay32\u001b[39;49m\u001b[39m'\u001b[39;49m)\n\u001b[0;32m     29\u001b[0m )\n\u001b[0;32m     31\u001b[0m _libsecp256k1_path \u001b[39m=\u001b[39m ctypes\u001b[39m.\u001b[39mutil\u001b[39m.\u001b[39mfind_library(\u001b[39m'\u001b[39m\u001b[39msecp256k1\u001b[39m\u001b[39m'\u001b[39m)\n\u001b[0;32m     32\u001b[0m _libsecp256k1_enable_signing \u001b[39m=\u001b[39m \u001b[39mFalse\u001b[39;00m\n",
      "File \u001b[1;32mc:\\Program Files\\Python311\\Lib\\ctypes\\__init__.py:454\u001b[0m, in \u001b[0;36mLibraryLoader.LoadLibrary\u001b[1;34m(self, name)\u001b[0m\n\u001b[0;32m    453\u001b[0m \u001b[39mdef\u001b[39;00m \u001b[39mLoadLibrary\u001b[39m(\u001b[39mself\u001b[39m, name):\n\u001b[1;32m--> 454\u001b[0m     \u001b[39mreturn\u001b[39;00m \u001b[39mself\u001b[39;49m\u001b[39m.\u001b[39;49m_dlltype(name)\n",
      "File \u001b[1;32mc:\\Program Files\\Python311\\Lib\\ctypes\\__init__.py:376\u001b[0m, in \u001b[0;36mCDLL.__init__\u001b[1;34m(self, name, mode, handle, use_errno, use_last_error, winmode)\u001b[0m\n\u001b[0;32m    373\u001b[0m \u001b[39mself\u001b[39m\u001b[39m.\u001b[39m_FuncPtr \u001b[39m=\u001b[39m _FuncPtr\n\u001b[0;32m    375\u001b[0m \u001b[39mif\u001b[39;00m handle \u001b[39mis\u001b[39;00m \u001b[39mNone\u001b[39;00m:\n\u001b[1;32m--> 376\u001b[0m     \u001b[39mself\u001b[39m\u001b[39m.\u001b[39m_handle \u001b[39m=\u001b[39m _dlopen(\u001b[39mself\u001b[39;49m\u001b[39m.\u001b[39;49m_name, mode)\n\u001b[0;32m    377\u001b[0m \u001b[39melse\u001b[39;00m:\n\u001b[0;32m    378\u001b[0m     \u001b[39mself\u001b[39m\u001b[39m.\u001b[39m_handle \u001b[39m=\u001b[39m handle\n",
      "\u001b[1;31mOSError\u001b[0m: [WinError 193] %1 is not a valid Win32 application"
     ]
    }
   ],
   "source": [
    "import bitcoin\n",
    "import bitcoin.core\n",
    "from bitcoin.wallet import CBitcoinSecret, P2PKHBitcoinAddress\n",
    "# from bitcoin.core import b2lx\n",
    "# from bitcoin.core import COIN, lx, b2x\n",
    "# from bitcoin.core import serialize\n",
    "# from bitcoinlib.mnemonic import Mnemonic"
   ]
  },
  {
   "cell_type": "code",
   "execution_count": 20,
   "metadata": {},
   "outputs": [
    {
     "ename": "AttributeError",
     "evalue": "type object 'Wallet' has no attribute 'CBitcoinSecret'",
     "output_type": "error",
     "traceback": [
      "\u001b[1;31m---------------------------------------------------------------------------\u001b[0m",
      "\u001b[1;31mAttributeError\u001b[0m                            Traceback (most recent call last)",
      "\u001b[1;32mc:\\Users\\ASUS\\Desktop\\github-clones\\Cryptocurrency-Course-Projects-S2024\\CA2\\src\\CA2-TODO.ipynb Cell 16\u001b[0m line \u001b[0;36m5\n\u001b[0;32m      <a href='vscode-notebook-cell:/c%3A/Users/ASUS/Desktop/github-clones/Cryptocurrency-Course-Projects-S2024/CA2/src/CA2-TODO.ipynb#X21sZmlsZQ%3D%3D?line=1'>2</a>\u001b[0m bitcoin\u001b[39m.\u001b[39mSelectParams(\u001b[39m\"\u001b[39m\u001b[39mtestnet\u001b[39m\u001b[39m\"\u001b[39m)  \n\u001b[0;32m      <a href='vscode-notebook-cell:/c%3A/Users/ASUS/Desktop/github-clones/Cryptocurrency-Course-Projects-S2024/CA2/src/CA2-TODO.ipynb#X21sZmlsZQ%3D%3D?line=2'>3</a>\u001b[0m \u001b[39m# private_key_wif = wif_key\u001b[39;00m\n\u001b[0;32m      <a href='vscode-notebook-cell:/c%3A/Users/ASUS/Desktop/github-clones/Cryptocurrency-Course-Projects-S2024/CA2/src/CA2-TODO.ipynb#X21sZmlsZQ%3D%3D?line=3'>4</a>\u001b[0m \u001b[39m# Private key in WIF format XXXXXXXXXXXXXXXXXXXXXXXXXXXXXXXXXXXXXXXXXXXXXXXXXXX\u001b[39;00m\n\u001b[1;32m----> <a href='vscode-notebook-cell:/c%3A/Users/ASUS/Desktop/github-clones/Cryptocurrency-Course-Projects-S2024/CA2/src/CA2-TODO.ipynb#X21sZmlsZQ%3D%3D?line=4'>5</a>\u001b[0m my_private_key \u001b[39m=\u001b[39m Wallet\u001b[39m.\u001b[39;49mCBitcoinSecret(\u001b[39m\"\u001b[39m\u001b[39m921N67gQV1BK1hvuEgasEKuYSs1wh23QnXjhBPWJ6vNHsRddfsq\u001b[39m\u001b[39m\"\u001b[39m)\n\u001b[0;32m      <a href='vscode-notebook-cell:/c%3A/Users/ASUS/Desktop/github-clones/Cryptocurrency-Course-Projects-S2024/CA2/src/CA2-TODO.ipynb#X21sZmlsZQ%3D%3D?line=5'>6</a>\u001b[0m my_public_key \u001b[39m=\u001b[39m my_private_key\u001b[39m.\u001b[39mpub\n\u001b[0;32m      <a href='vscode-notebook-cell:/c%3A/Users/ASUS/Desktop/github-clones/Cryptocurrency-Course-Projects-S2024/CA2/src/CA2-TODO.ipynb#X21sZmlsZQ%3D%3D?line=6'>7</a>\u001b[0m my_address \u001b[39m=\u001b[39m Wallet\u001b[39m.\u001b[39mP2PKHBitcoinAddress\u001b[39m.\u001b[39mfrom_pubkey(my_public_key)\n",
      "\u001b[1;31mAttributeError\u001b[0m: type object 'Wallet' has no attribute 'CBitcoinSecret'"
     ]
    }
   ],
   "source": [
    "# Select the network (testnet or mainnet)\n",
    "bitcoin.SelectParams(\"testnet\")  \n",
    "# private_key_wif = wif_key\n",
    "my_private_key = CBitcoinSecret(wif_key)\n",
    "my_public_key = my_private_key.pub\n",
    "my_address = P2PKHBitcoinAddress.from_pubkey(my_public_key)\n",
    "\n",
    "print(f\"My Private Key : {my_private_key}\")\n",
    "print(f\"My Public Key : {my_public_key}\")\n",
    "print(f\"My Address : {my_address}\")\n"
   ]
  },
  {
   "cell_type": "code",
   "execution_count": null,
   "metadata": {},
   "outputs": [],
   "source": [
    "\n",
    "# Destination address (recipient of the money)\n",
    "\n",
    "destination_address = bitcoin.wallet.CBitcoinAddress('XXXXXXXXXXXXXXXXXXXXXXXXXXXXXXXXXX')  \n",
    "\n",
    "\n",
    "def P2PKH_scriptPubKey(address):\n",
    "    ######################################################################\n",
    "    ## Fill out the operations for P2PKH scriptPubKey                   ##\n",
    "\n",
    "    return [..., OP_CHECKSIG]  # Fill this section\n",
    "    ######################################################################\n",
    "\n",
    "\n",
    "def P2PKH_scriptSig(txin, txout, txin_scriptPubKey):\n",
    "    ######################################################################\n",
    "    ## Fill out the operations for P2PKH scriptSig                      ##\n",
    "\n",
    "    signature = create_OP_CHECKSIG_signature(txin, txout, txin_scriptPubKey, my_private_key)\n",
    "\n",
    "    return [signature, ...]  # Fill this section\n",
    "    ######################################################################\n",
    "\n",
    "\n",
    "def send_from_P2PKH_transaction(amount_to_send, txid_to_spend, utxo_index, txout_scriptPubKey):\n",
    "    txout = create_txout(amount_to_send, txout_scriptPubKey)\n",
    "\n",
    "    txin_scriptPubKey = P2PKH_scriptPubKey(my_address)\n",
    "    txin = create_txin(txid_to_spend, utxo_index)\n",
    "    txin_scriptSig = P2PKH_scriptSig(txin, txout, txin_scriptPubKey)\n",
    "\n",
    "    new_tx = create_signed_transaction(txin, txout, txin_scriptPubKey, txin_scriptSig)\n",
    "\n",
    "    return broadcast_transaction(new_tx)\n",
    "\n",
    "\n",
    "def run():\n",
    "    ######################################################################\n",
    "    amount_to_send = 0.1\n",
    "    txid_to_spend = ('XXXXXXXXXXXXXXXXXXXXXXXXXXXXXXXXXXXXXXXXXXXXXXXXXXXXXXXXXXXXXXXX')  # TxHash of UTXO\n",
    "    utxo_index = 0  # UTXO index among transaction outputs\n",
    "    ######################################################################\n",
    "\n",
    "    print(my_address)  # Prints your address in base58\n",
    "    print(my_public_key.hex())  # Print your public key in hex\n",
    "    print(my_private_key.hex())  # Print your private key in hex\n",
    "    txout_scriptPubKey = P2PKH_scriptPubKey(my_address)\n",
    "    response = send_from_P2PKH_transaction(amount_to_send, txid_to_spend, utxo_index, txout_scriptPubKey)\n",
    "    print(response.status_code, response.reason)\n",
    "    print(response.text)  # Report the hash of transaction which is printed in this section result\n"
   ]
  },
  {
   "cell_type": "code",
   "execution_count": null,
   "metadata": {},
   "outputs": [],
   "source": [
    "import requests\n",
    "\n",
    "from bitcoin.core import b2x, lx, COIN, COutPoint, CMutableTxOut, CMutableTxIn, CMutableTransaction, Hash160\n",
    "from bitcoin.core.script import *\n",
    "from bitcoin.core.scripteval import VerifyScript, SCRIPT_VERIFY_P2SH\n",
    "\n",
    "\n",
    "def send_from_custom_transaction(amount_to_send, txid_to_spend, utxo_index, txin_scriptPubKey, txin_scriptSig, txout_scriptPubKey):\n",
    "    txout = create_txout(amount_to_send, txout_scriptPubKey)\n",
    "    txin = create_txin(txid_to_spend, utxo_index)\n",
    "    new_tx = create_signed_transaction(txin, txout, txin_scriptPubKey, txin_scriptSig)\n",
    "    return broadcast_transaction(new_tx)\n",
    "\n",
    "\n",
    "def create_txin(txid, utxo_index):\n",
    "    return CMutableTxIn(COutPoint(lx(txid), utxo_index))\n",
    "\n",
    "\n",
    "def create_txout(amount, scriptPubKey):\n",
    "    return CMutableTxOut(amount*COIN, CScript(scriptPubKey))\n",
    "\n",
    "\n",
    "def create_OP_CHECKSIG_signature(txin, txout, txin_scriptPubKey, seckey):\n",
    "    tx = CMutableTransaction([txin], [txout])\n",
    "    sighash = SignatureHash(CScript(txin_scriptPubKey), tx, 0, SIGHASH_ALL)\n",
    "    sig = seckey.sign(sighash) + bytes([SIGHASH_ALL])\n",
    "    return sig\n",
    "\n",
    "\n",
    "def create_signed_transaction(txin, txout, txin_scriptPubKey, txin_scriptSig):\n",
    "    tx = CMutableTransaction([txin], [txout])\n",
    "    txin.scriptSig = CScript(txin_scriptSig)\n",
    "    VerifyScript(txin.scriptSig, CScript(txin_scriptPubKey), tx, 0, (SCRIPT_VERIFY_P2SH,))\n",
    "    return tx\n",
    "\n",
    "\n",
    "def broadcast_transaction(tx):\n",
    "    raw_transaction = b2x(tx.serialize())\n",
    "    headers = {'content-type': 'application/x-www-form-urlencoded'}\n",
    "    return requests.post(\n",
    "        'https://api.blockcypher.com/v1/btc/test3/txs/push',\n",
    "        headers=headers,\n",
    "        data='{\"tx\": \"%s\"}' % raw_transaction,\n",
    "    )\n"
   ]
  },
  {
   "cell_type": "markdown",
   "metadata": {},
   "source": [
    "Now use the provided functions to make these transactions:"
   ]
  },
  {
   "cell_type": "markdown",
   "metadata": {},
   "source": [
    "#### 2.1: One input and two outputs transaction"
   ]
  },
  {
   "cell_type": "code",
   "execution_count": null,
   "metadata": {},
   "outputs": [],
   "source": []
  },
  {
   "cell_type": "markdown",
   "metadata": {},
   "source": [
    "#### 2.2: Pay to MultiSig transaction (P2MS)\n"
   ]
  },
  {
   "cell_type": "code",
   "execution_count": null,
   "metadata": {},
   "outputs": [],
   "source": []
  },
  {
   "cell_type": "markdown",
   "metadata": {},
   "source": [
    "#### 2.3: Custom Transaction (BitCoin Scripting)\n"
   ]
  },
  {
   "cell_type": "code",
   "execution_count": null,
   "metadata": {},
   "outputs": [],
   "source": []
  }
 ],
 "metadata": {
  "kernelspec": {
   "display_name": "Python 3",
   "language": "python",
   "name": "python3"
  },
  "language_info": {
   "codemirror_mode": {
    "name": "ipython",
    "version": 3
   },
   "file_extension": ".py",
   "mimetype": "text/x-python",
   "name": "python",
   "nbconvert_exporter": "python",
   "pygments_lexer": "ipython3",
   "version": "3.8.5"
  }
 },
 "nbformat": 4,
 "nbformat_minor": 2
}
